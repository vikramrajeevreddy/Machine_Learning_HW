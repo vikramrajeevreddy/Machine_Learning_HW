{
  "nbformat": 4,
  "nbformat_minor": 0,
  "metadata": {
    "colab": {
      "name": "HW5.ipynb",
      "provenance": [],
      "authorship_tag": "ABX9TyPRy0Lv5kVi4djU/lFSxRqz",
      "include_colab_link": true
    },
    "kernelspec": {
      "name": "python3",
      "display_name": "Python 3"
    },
    "language_info": {
      "name": "python"
    }
  },
  "cells": [
    {
      "cell_type": "markdown",
      "metadata": {
        "id": "view-in-github",
        "colab_type": "text"
      },
      "source": [
        "<a href=\"https://colab.research.google.com/github/vikramrajeevreddy/Machine_Learning_HW/blob/main/HW5.ipynb\" target=\"_parent\"><img src=\"https://colab.research.google.com/assets/colab-badge.svg\" alt=\"Open In Colab\"/></a>"
      ]
    },
    {
      "cell_type": "code",
      "metadata": {
        "colab": {
          "base_uri": "https://localhost:8080/"
        },
        "id": "0RRuBp2bP-mq",
        "outputId": "baca60b4-8dd0-468c-96ba-c7a691aec030"
      },
      "source": [
        "!pip install surprise\n",
        "\n"
      ],
      "execution_count": 1,
      "outputs": [
        {
          "output_type": "stream",
          "name": "stdout",
          "text": [
            "Collecting surprise\n",
            "  Downloading surprise-0.1-py2.py3-none-any.whl (1.8 kB)\n",
            "Collecting scikit-surprise\n",
            "  Downloading scikit-surprise-1.1.1.tar.gz (11.8 MB)\n",
            "\u001b[K     |████████████████████████████████| 11.8 MB 54 kB/s \n",
            "\u001b[?25hRequirement already satisfied: joblib>=0.11 in /usr/local/lib/python3.7/dist-packages (from scikit-surprise->surprise) (1.1.0)\n",
            "Requirement already satisfied: numpy>=1.11.2 in /usr/local/lib/python3.7/dist-packages (from scikit-surprise->surprise) (1.19.5)\n",
            "Requirement already satisfied: scipy>=1.0.0 in /usr/local/lib/python3.7/dist-packages (from scikit-surprise->surprise) (1.4.1)\n",
            "Requirement already satisfied: six>=1.10.0 in /usr/local/lib/python3.7/dist-packages (from scikit-surprise->surprise) (1.15.0)\n",
            "Building wheels for collected packages: scikit-surprise\n",
            "  Building wheel for scikit-surprise (setup.py) ... \u001b[?25l\u001b[?25hdone\n",
            "  Created wheel for scikit-surprise: filename=scikit_surprise-1.1.1-cp37-cp37m-linux_x86_64.whl size=1619400 sha256=2601c4f55e9a5a5d88600ace6373d0e9fbf5ac7e8e314484f7bd1873385b666d\n",
            "  Stored in directory: /root/.cache/pip/wheels/76/44/74/b498c42be47b2406bd27994e16c5188e337c657025ab400c1c\n",
            "Successfully built scikit-surprise\n",
            "Installing collected packages: scikit-surprise, surprise\n",
            "Successfully installed scikit-surprise-1.1.1 surprise-0.1\n"
          ]
        }
      ]
    },
    {
      "cell_type": "code",
      "metadata": {
        "id": "WZ1taj66Q47e"
      },
      "source": [
        "import pandas as pd\n",
        "import numpy as np\n",
        "from surprise import KNNBasic,Reader, Dataset, SVD,  prediction_algorithms\n",
        "from surprise.model_selection import KFold, cross_validate\n",
        "import matplotlib.pyplot as plt"
      ],
      "execution_count": 9,
      "outputs": []
    },
    {
      "cell_type": "code",
      "metadata": {
        "colab": {
          "base_uri": "https://localhost:8080/",
          "height": 203
        },
        "id": "JpANgzoaAWMI",
        "outputId": "77ef2674-b649-40c3-e455-602353c6f2ae"
      },
      "source": [
        "ratings_df = pd.read_csv('./ratings_small.csv')\n",
        "ratings_df.head()"
      ],
      "execution_count": 63,
      "outputs": [
        {
          "output_type": "execute_result",
          "data": {
            "text/html": [
              "<div>\n",
              "<style scoped>\n",
              "    .dataframe tbody tr th:only-of-type {\n",
              "        vertical-align: middle;\n",
              "    }\n",
              "\n",
              "    .dataframe tbody tr th {\n",
              "        vertical-align: top;\n",
              "    }\n",
              "\n",
              "    .dataframe thead th {\n",
              "        text-align: right;\n",
              "    }\n",
              "</style>\n",
              "<table border=\"1\" class=\"dataframe\">\n",
              "  <thead>\n",
              "    <tr style=\"text-align: right;\">\n",
              "      <th></th>\n",
              "      <th>userId</th>\n",
              "      <th>movieId</th>\n",
              "      <th>rating</th>\n",
              "      <th>timestamp</th>\n",
              "    </tr>\n",
              "  </thead>\n",
              "  <tbody>\n",
              "    <tr>\n",
              "      <th>0</th>\n",
              "      <td>1</td>\n",
              "      <td>31</td>\n",
              "      <td>2.5</td>\n",
              "      <td>1260759144</td>\n",
              "    </tr>\n",
              "    <tr>\n",
              "      <th>1</th>\n",
              "      <td>1</td>\n",
              "      <td>1029</td>\n",
              "      <td>3.0</td>\n",
              "      <td>1260759179</td>\n",
              "    </tr>\n",
              "    <tr>\n",
              "      <th>2</th>\n",
              "      <td>1</td>\n",
              "      <td>1061</td>\n",
              "      <td>3.0</td>\n",
              "      <td>1260759182</td>\n",
              "    </tr>\n",
              "    <tr>\n",
              "      <th>3</th>\n",
              "      <td>1</td>\n",
              "      <td>1129</td>\n",
              "      <td>2.0</td>\n",
              "      <td>1260759185</td>\n",
              "    </tr>\n",
              "    <tr>\n",
              "      <th>4</th>\n",
              "      <td>1</td>\n",
              "      <td>1172</td>\n",
              "      <td>4.0</td>\n",
              "      <td>1260759205</td>\n",
              "    </tr>\n",
              "  </tbody>\n",
              "</table>\n",
              "</div>"
            ],
            "text/plain": [
              "   userId  movieId  rating   timestamp\n",
              "0       1       31     2.5  1260759144\n",
              "1       1     1029     3.0  1260759179\n",
              "2       1     1061     3.0  1260759182\n",
              "3       1     1129     2.0  1260759185\n",
              "4       1     1172     4.0  1260759205"
            ]
          },
          "metadata": {},
          "execution_count": 63
        }
      ]
    },
    {
      "cell_type": "code",
      "metadata": {
        "id": "_ZNvARtSRjwL"
      },
      "source": [
        "reader = Reader(line_format='user item rating timestamp', sep=',', skip_lines = 1)\n",
        "data = Dataset.load_from_file('./ratings_small.csv', reader=reader)"
      ],
      "execution_count": 6,
      "outputs": []
    },
    {
      "cell_type": "code",
      "metadata": {
        "colab": {
          "base_uri": "https://localhost:8080/"
        },
        "id": "REyslBh4ToD6",
        "outputId": "b1fe3cf7-989a-4342-a6de-5b0b02f0d4e0"
      },
      "source": [
        "from google.colab import drive\n",
        "drive.mount('/content/drive')\n"
      ],
      "execution_count": null,
      "outputs": [
        {
          "output_type": "stream",
          "name": "stdout",
          "text": [
            "Mounted at /content/drive\n"
          ]
        }
      ]
    },
    {
      "cell_type": "code",
      "metadata": {
        "id": "HWUz4KULUAa6"
      },
      "source": [
        "\n",
        "reader = Reader(line_format='user item rating timestamp', sep=',', skip_lines = 1)"
      ],
      "execution_count": 14,
      "outputs": []
    },
    {
      "cell_type": "code",
      "metadata": {
        "id": "Cz8OeplTUISD"
      },
      "source": [
        "Ratings_df=pd.read_csv('/content/drive/MyDrive/ML_Project/ratings.csv')"
      ],
      "execution_count": null,
      "outputs": []
    },
    {
      "cell_type": "code",
      "metadata": {
        "id": "tJM4NZLrU1SM"
      },
      "source": [
        "data = Dataset.load_from_file('./ratings.csv', reader=reader)\n"
      ],
      "execution_count": null,
      "outputs": []
    },
    {
      "cell_type": "code",
      "metadata": {
        "colab": {
          "base_uri": "https://localhost:8080/"
        },
        "id": "JYeS_3MYVHjr",
        "outputId": "154e11a1-22b6-422c-811d-1d9959e4b522"
      },
      "source": [
        "pmf = prediction_algorithms.matrix_factorization.SVD(biased=False)\n",
        "crossvalidated_pmf = cross_validate(pmf, data, measures=['RMSE', 'MAE'], cv=5, verbose=True);\n",
        "mae_mean = crossvalidated_pmf['test_mae'].mean()\n",
        "rmse_mean = crossvalidated_pmf['test_rmse'].mean()\n"
      ],
      "execution_count": 19,
      "outputs": [
        {
          "output_type": "stream",
          "name": "stdout",
          "text": [
            "Evaluating RMSE, MAE of algorithm SVD on 5 split(s).\n",
            "\n",
            "                  Fold 1  Fold 2  Fold 3  Fold 4  Fold 5  Mean    Std     \n",
            "RMSE (testset)    1.0092  1.0125  1.0069  1.0069  1.0145  1.0100  0.0031  \n",
            "MAE (testset)     0.7773  0.7796  0.7804  0.7777  0.7813  0.7793  0.0016  \n",
            "Fit time          4.73    4.67    4.70    4.72    4.73    4.71    0.02    \n",
            "Test time         0.23    0.22    0.15    0.15    0.14    0.18    0.04    \n"
          ]
        }
      ]
    },
    {
      "cell_type": "code",
      "metadata": {
        "colab": {
          "base_uri": "https://localhost:8080/"
        },
        "id": "1KfLVonNb4uM",
        "outputId": "5c5a8224-5848-423e-8b2e-5cca2dd35fe8"
      },
      "source": [
        "print(f'The average MAE of the Probabilistic Matrix Factorization (PMF) under 5 fold cross validation',mae_mean)\n",
        "print(f'The average RMSE of the Probabilistic Matrix Factorization (PMF) under 5 fold cross validation',rmse_mean)"
      ],
      "execution_count": 20,
      "outputs": [
        {
          "output_type": "stream",
          "name": "stdout",
          "text": [
            "The average MAE of the Probabilistic Matrix Factorization (PMF) under 5 fold cross validation 0.7792719446460293\n",
            "The average RMSE of the Probabilistic Matrix Factorization (PMF) under 5 fold cross validation 1.0100187241081255\n"
          ]
        }
      ]
    },
    {
      "cell_type": "code",
      "metadata": {
        "colab": {
          "base_uri": "https://localhost:8080/"
        },
        "id": "y1xJAW13Xc4k",
        "outputId": "e9df1186-60b6-4217-bd38-e3cb9eee0048"
      },
      "source": [
        "similarity_options = {'user_based': True}\n",
        "user_based_collaborative_filtering = KNNBasic(similarity_options=similarity_options)\n",
        "cv_ub = cross_validate(user_based_collaborative_filtering, data, measures=['RMSE', 'MAE'], cv=5, verbose=True);\n",
        "mae_mean_ucb = cv_ub['test_mae'].mean()\n",
        "rmse_mean_ucb = cv_ub['test_rmse'].mean()"
      ],
      "execution_count": 71,
      "outputs": [
        {
          "output_type": "stream",
          "name": "stdout",
          "text": [
            "Computing the msd similarity matrix...\n",
            "Done computing similarity matrix.\n",
            "Computing the msd similarity matrix...\n",
            "Done computing similarity matrix.\n",
            "Computing the msd similarity matrix...\n",
            "Done computing similarity matrix.\n",
            "Computing the msd similarity matrix...\n",
            "Done computing similarity matrix.\n",
            "Computing the msd similarity matrix...\n",
            "Done computing similarity matrix.\n",
            "Evaluating RMSE, MAE of algorithm KNNBasic on 5 split(s).\n",
            "\n",
            "                  Fold 1  Fold 2  Fold 3  Fold 4  Fold 5  Mean    Std     \n",
            "RMSE (testset)    0.9753  0.9730  0.9644  0.9608  0.9628  0.9672  0.0058  \n",
            "MAE (testset)     0.7491  0.7478  0.7412  0.7393  0.7423  0.7439  0.0038  \n",
            "Fit time          0.14    0.18    0.18    0.17    0.17    0.17    0.01    \n",
            "Test time         2.11    1.80    2.12    1.82    1.80    1.93    0.15    \n"
          ]
        }
      ]
    },
    {
      "cell_type": "code",
      "metadata": {
        "colab": {
          "base_uri": "https://localhost:8080/"
        },
        "id": "AWIPjwLVdkPI",
        "outputId": "a29a9cba-1edf-4eca-b953-8b91dbe4b4ba"
      },
      "source": [
        "print(f'The average MAE of the user_based_collaborative_filtering under 5 fold cross validation',mae_mean_ucb)\n",
        "print(f'The average RMSE of the user_based_collaborative_filtering under 5 fold cross validation',rmse_mean_ucb)"
      ],
      "execution_count": 66,
      "outputs": [
        {
          "output_type": "stream",
          "name": "stdout",
          "text": [
            "The average MAE of the user_based_collaborative_filtering under 5 fold cross validation 0.7442195539291456\n",
            "The average RMSE of the user_based_collaborative_filtering under 5 fold cross validation 0.9682473447997717\n"
          ]
        }
      ]
    },
    {
      "cell_type": "code",
      "metadata": {
        "colab": {
          "base_uri": "https://localhost:8080/"
        },
        "id": "tceaYhEJeDCS",
        "outputId": "1e9f4b73-031b-4303-aa5e-57399676a150"
      },
      "source": [
        "similarity_options = {'user_based': False}\n",
        "item_based_collaborative_filtering = KNNBasic(similarity_options=similarity_options)\n",
        "cv_ibcf = cross_validate(item_based_collaborative_filtering, data, measures=['RMSE', 'MAE'], cv=5, verbose=True);\n",
        "\n",
        "mae_mean_icb = cv_ibcf['test_mae'].mean()\n",
        "rmse_mean_icb = cv_ibcf['test_rmse'].mean()\n"
      ],
      "execution_count": 70,
      "outputs": [
        {
          "output_type": "stream",
          "name": "stdout",
          "text": [
            "Computing the msd similarity matrix...\n",
            "Done computing similarity matrix.\n",
            "Computing the msd similarity matrix...\n",
            "Done computing similarity matrix.\n",
            "Computing the msd similarity matrix...\n",
            "Done computing similarity matrix.\n",
            "Computing the msd similarity matrix...\n",
            "Done computing similarity matrix.\n",
            "Computing the msd similarity matrix...\n",
            "Done computing similarity matrix.\n",
            "Evaluating RMSE, MAE of algorithm KNNBasic on 5 split(s).\n",
            "\n",
            "                  Fold 1  Fold 2  Fold 3  Fold 4  Fold 5  Mean    Std     \n",
            "RMSE (testset)    0.9774  0.9765  0.9665  0.9577  0.9613  0.9679  0.0079  \n",
            "MAE (testset)     0.7498  0.7489  0.7446  0.7371  0.7390  0.7439  0.0051  \n",
            "Fit time          0.14    0.17    0.17    0.17    0.17    0.16    0.01    \n",
            "Test time         1.80    1.81    1.80    1.78    1.81    1.80    0.01    \n"
          ]
        }
      ]
    },
    {
      "cell_type": "code",
      "metadata": {
        "colab": {
          "base_uri": "https://localhost:8080/"
        },
        "id": "11vwdbo3fRU-",
        "outputId": "92bf9e76-3bf8-4b0f-b598-202ba6ac88ba"
      },
      "source": [
        "print(f'The average MAE of the item_based_collaborative_filtering under 5 fold cross validation',mae_mean_icb)\n",
        "print(f'The average RMSE of the item_based_collaborative_filtering under 5 fold cross validation',rmse_mean_icb)"
      ],
      "execution_count": 68,
      "outputs": [
        {
          "output_type": "stream",
          "name": "stdout",
          "text": [
            "The average MAE of the item_based_collaborative_filtering under 5 fold cross validation 0.7447639007448822\n",
            "The average RMSE of the item_based_collaborative_filtering under 5 fold cross validation 0.9690594554536942\n"
          ]
        }
      ]
    },
    {
      "cell_type": "code",
      "metadata": {
        "id": "vf-NVcWTjLGX"
      },
      "source": [
        "user_based_cosine = KNNBasic(sim_options={'name': 'cosine', 'user_based': True}, verbose=False)\n",
        "user_based_msd = KNNBasic(sim_options={'name': 'msd', 'user_based': True}, verbose=False)\n",
        "user_based_pearson = KNNBasic(sim_options={'name': 'pearson', 'user_based': True}, verbose=False)\n",
        "\n",
        "results1 = cross_validate(algo=user_based_cosine, data=data, measures=['rmse', 'mae'], cv=5)\n",
        "results2 = cross_validate(algo=user_based_msd, data=data, measures=['rmse', 'mae'], cv=5)\n",
        "results3 = cross_validate(algo=user_based_pearson, data=data, measures=['rmse', 'mae'], cv=5)\n"
      ],
      "execution_count": 38,
      "outputs": []
    },
    {
      "cell_type": "code",
      "metadata": {
        "id": "PtvHKECzmFUT"
      },
      "source": [
        "mae_mean_ub_cosine = results1['test_mae'].mean()\n",
        "rmse_mean_ub_cosine = results1['test_mae'].mean()\n",
        "\n",
        "rmse_mean_ub_msd = results2['test_rmse'].mean()\n",
        "mae_mean_ub_msd = results2['test_mae'].mean()\n",
        "\n",
        "rmse_mean_ub_pearson = results3['test_rmse'].mean()\n",
        "mae_mean_ub_pearson = results3['test_mae'].mean()\n"
      ],
      "execution_count": 39,
      "outputs": []
    },
    {
      "cell_type": "code",
      "metadata": {
        "colab": {
          "base_uri": "https://localhost:8080/"
        },
        "id": "SPhLNaLTpT6E",
        "outputId": "60658198-3bcd-4969-9990-c21c3f2c5b05"
      },
      "source": [
        "print(f'Mean RMSE for User based CF using the cosine:',rmse_mean_ub_cosine)\n",
        "print(f'Mean MAE for User based CF using the cosine:',mae_mean_ub_cosine)\n",
        "\n",
        "print(f'Mean RMSE for User based CF using the msd:',rmse_mean_ub_msd)\n",
        "print(f'Mean MAE for User based CF using the msd:',mae_mean_ub_msd)\n",
        "\n",
        "print(f'Mean RMSE for User based CF using the pearson:',rmse_mean_ub_pearson)\n",
        "print(f'Mean MAE for User based CF using the pearson:',mae_mean_ub_pearson)"
      ],
      "execution_count": 49,
      "outputs": [
        {
          "output_type": "stream",
          "name": "stdout",
          "text": [
            "Mean RMSE for User based CF using the cosine: 0.7670786143979565\n",
            "Mean MAE for User based CF using the cosine: 0.7670786143979565\n",
            "Mean RMSE for User based CF using the msd: 0.9681206734380019\n",
            "Mean MAE for User based CF using the msd: 0.7438108837518466\n",
            "Mean RMSE for User based CF using the pearson: 0.997603623147125\n",
            "Mean MAE for User based CF using the pearson: 0.7722537617351256\n"
          ]
        }
      ]
    },
    {
      "cell_type": "code",
      "metadata": {
        "colab": {
          "base_uri": "https://localhost:8080/",
          "height": 312
        },
        "id": "hEtJtGA7joEY",
        "outputId": "44e021c7-c69f-46a4-9a94-41828512f7ef"
      },
      "source": [
        "f = plt.figure(1)\n",
        "values = [results1['test_rmse'].mean(), results2['test_rmse'].mean(), results3['test_rmse'].mean()]\n",
        "labels = ('cosine', 'MSD', 'Pearson')\n",
        "spaced = np.arange(len(labels))\n",
        "\n",
        "plt.bar(x=spaced, height=values)\n",
        "plt.xticks(spaced, labels)\n",
        "plt.ylim(min(values) - .05, max(values) + .05)\n",
        "\n",
        "plt.title('User-Based CF Similarity Measure Comparison by RMSE')\n",
        "plt.xlabel('Similarity Measure')\n",
        "plt.ylabel('Mean RMSE')\n"
      ],
      "execution_count": 47,
      "outputs": [
        {
          "output_type": "execute_result",
          "data": {
            "text/plain": [
              "Text(0, 0.5, 'Mean RMSE')"
            ]
          },
          "metadata": {},
          "execution_count": 47
        },
        {
          "output_type": "display_data",
          "data": {
            "image/png": "[encoded data removed]",
            "text/plain": [
              "<Figure size 432x288 with 1 Axes>"
            ]
          },
          "metadata": {
            "needs_background": "light"
          }
        }
      ]
    },
    {
      "cell_type": "code",
      "metadata": {
        "colab": {
          "base_uri": "https://localhost:8080/",
          "height": 312
        },
        "id": "kw4QhGqixse4",
        "outputId": "bb53ffb1-b8dc-4409-fb29-af805ab785a0"
      },
      "source": [
        "f = plt.figure(1)\n",
        "values = [results1['test_mae'].mean(), results2['test_mae'].mean(), results3['test_mae'].mean()]\n",
        "labels = ('cosine', 'MSD', 'Pearson')\n",
        "spaced = np.arange(len(labels))\n",
        "\n",
        "plt.bar(x=spaced, height=values)\n",
        "plt.xticks(spaced, labels)\n",
        "plt.ylim(min(values) - .05, max(values) + .05)\n",
        "\n",
        "plt.title('User-Based CF Similarity Measure Comparison by MAE')\n",
        "plt.xlabel('Similarity Measure')\n",
        "plt.ylabel('Mean MAE')"
      ],
      "execution_count": 57,
      "outputs": [
        {
          "output_type": "execute_result",
          "data": {
            "text/plain": [
              "Text(0, 0.5, 'Mean MAE')"
            ]
          },
          "metadata": {},
          "execution_count": 57
        },
        {
          "output_type": "display_data",
          "data": {
            "image/png": "[encoded data removed]",
            "text/plain": [
              "<Figure size 432x288 with 1 Axes>"
            ]
          },
          "metadata": {
            "needs_background": "light"
          }
        }
      ]
    },
    {
      "cell_type": "code",
      "metadata": {
        "id": "7Ax4oXzVkCmi"
      },
      "source": [
        "item_based_cosine = KNNBasic(sim_options={'name': 'cosine', 'user_based': False}, verbose=False)\n",
        "item_based_msd = KNNBasic(sim_options={'name': 'msd', 'user_based': False}, verbose=False)\n",
        "item_based_pearson = KNNBasic(sim_options={'name': 'pearson', 'user_based': False}, verbose=False)\n",
        "\n",
        "results1_ib = cross_validate(algo=item_based_cosine, data=data, measures=['rmse', 'mae'], cv=5)\n",
        "results2_ib = cross_validate(algo=item_based_msd, data=data, measures=['rmse', 'mae'], cv=5)\n",
        "results3_ib = cross_validate(algo=item_based_pearson, data=data, measures=['rmse', 'mae'], cv=5)\n"
      ],
      "execution_count": 73,
      "outputs": []
    },
    {
      "cell_type": "code",
      "metadata": {
        "id": "l6Jme7asqkdL"
      },
      "source": [
        "mae_mean_ib_cosine = results1_ib['test_mae'].mean()\n",
        "rmse_mean_ib_cosine = results1_ib['test_mae'].mean()\n",
        "\n",
        "rmse_mean_ib_msd = results2_ib['test_rmse'].mean()\n",
        "mae_mean_ib_msd = results2_ib['test_mae'].mean()\n",
        "\n",
        "rmse_mean_ib_pearson = results3_ib['test_rmse'].mean()\n",
        "mae_mean_ib_pearson = results3_ib['test_mae'].mean()"
      ],
      "execution_count": 51,
      "outputs": []
    },
    {
      "cell_type": "code",
      "metadata": {
        "colab": {
          "base_uri": "https://localhost:8080/"
        },
        "id": "i1WITMYWsgFE",
        "outputId": "aceb92a7-59b4-4f59-e29a-7185bbf9306f"
      },
      "source": [
        "print(f'Mean RMSE for item based CF using the cosine:',rmse_mean_ib_cosine)\n",
        "print(f'Mean MAE for item based CF using the cosine:',mae_mean_ib_cosine)\n",
        "\n",
        "print(f'Mean RMSE for item based CF using the msd:',rmse_mean_ib_msd)\n",
        "print(f'Mean MAE for item based CF using the msd:',mae_mean_ib_msd)\n",
        "\n",
        "print(f'Mean RMSE for item based CF using the pearson:',rmse_mean_ib_pearson)\n",
        "print(f'Mean MAE for item based CF using the pearson:',mae_mean_ib_pearson)"
      ],
      "execution_count": 52,
      "outputs": [
        {
          "output_type": "stream",
          "name": "stdout",
          "text": [
            "Mean RMSE for item based CF using the cosine: 0.7750899163988818\n",
            "Mean MAE for item based CF using the cosine: 0.7750899163988818\n",
            "Mean RMSE for item based CF using the msd: 0.9348751013615907\n",
            "Mean MAE for item based CF using the msd: 0.7211208179427665\n",
            "Mean RMSE for item based CF using the pearson: 0.9899067750714228\n",
            "Mean MAE for item based CF using the pearson: 0.7680225404056332\n"
          ]
        }
      ]
    },
    {
      "cell_type": "code",
      "metadata": {
        "colab": {
          "base_uri": "https://localhost:8080/",
          "height": 312
        },
        "id": "1HKIAYM7kbd2",
        "outputId": "0299820f-8259-45ab-d893-5c1c30dadfac"
      },
      "source": [
        "g = plt.figure(2)\n",
        "values = [results1_ib['test_rmse'].mean(), results2_ib['test_rmse'].mean(), results3_ib['test_rmse'].mean()]\n",
        "labels = ('cosine', 'MSD', 'Pearson')\n",
        "spaced = np.arange(len(labels))\n",
        "\n",
        "plt.bar(x=spaced, height=values)\n",
        "plt.xticks(spaced, labels)\n",
        "plt.ylim(min(values) - .05, max(values) + .05)\n",
        "\n",
        "plt.title('Item-Based CF Similarity Measure Comparison by RMSE')\n",
        "plt.xlabel('Similarity Measure')\n",
        "plt.ylabel('Mean RMSE')\n",
        "    "
      ],
      "execution_count": 53,
      "outputs": [
        {
          "output_type": "execute_result",
          "data": {
            "text/plain": [
              "Text(0, 0.5, 'Mean RMSE')"
            ]
          },
          "metadata": {},
          "execution_count": 53
        },
        {
          "output_type": "display_data",
          "data": {
            "image/png": "[encoded data removed]",
            "text/plain": [
              "<Figure size 432x288 with 1 Axes>"
            ]
          },
          "metadata": {
            "needs_background": "light"
          }
        }
      ]
    },
    {
      "cell_type": "code",
      "metadata": {
        "colab": {
          "base_uri": "https://localhost:8080/",
          "height": 312
        },
        "id": "QrwCXTOLxKQd",
        "outputId": "ea266090-c171-464f-8976-4a7729bbda50"
      },
      "source": [
        "g = plt.figure(2)\n",
        "values = [results1_ib['test_mae'].mean(), results2_ib['test_mae'].mean(), results3_ib['test_mae'].mean()]\n",
        "labels = ('cosine', 'MSD', 'Pearson')\n",
        "spaced = np.arange(len(labels))\n",
        "\n",
        "plt.bar(x=spaced, height=values)\n",
        "plt.xticks(spaced, labels)\n",
        "plt.ylim(min(values) - .05, max(values) + .05)\n",
        "\n",
        "plt.title('Item-Based CF Similarity Measure Comparison by MAE')\n",
        "plt.xlabel('Similarity Measure')\n",
        "plt.ylabel('Mean MAE')"
      ],
      "execution_count": 56,
      "outputs": [
        {
          "output_type": "execute_result",
          "data": {
            "text/plain": [
              "Text(0, 0.5, 'Mean MAE')"
            ]
          },
          "metadata": {},
          "execution_count": 56
        },
        {
          "output_type": "display_data",
          "data": {
            "image/png": "[encoded data removed]",
            "text/plain": [
              "<Figure size 432x288 with 1 Axes>"
            ]
          },
          "metadata": {
            "needs_background": "light"
          }
        }
      ]
    },
    {
      "cell_type": "code",
      "metadata": {
        "colab": {
          "base_uri": "https://localhost:8080/"
        },
        "id": "C2GYqJU3woO-",
        "outputId": "a502b6a0-b5a8-4e97-d0be-b5066440ca1e"
      },
      "source": [
        "similarities = ['cosine', 'msd', 'pearson']\n",
        "measures = ['RMSE', 'MAE']\n",
        "run_results = {\n",
        "    'ucf': dict(),\n",
        "    'icf': dict()\n",
        "}\n",
        "\n",
        "for similarity in similarities:\n",
        "  user_based_cf = KNNBasic(sim_options={'name': similarity, 'user_based': True})\n",
        "  item_based_cf = KNNBasic(sim_options={'name': similarity, 'user_based': False})\n",
        "\n",
        "  print(f\"Calculating {similarity} for User Based CF\")\n",
        "  cross_validate_user_based_cf = cross_validate(user_based_cf, data, measures, verbose=True, cv=5)\n",
        "\n",
        "  print(f\"Calculating {similarity} for Item Based CF\")\n",
        "  cross_validate_item_based_cf = cross_validate(item_based_cf, data, measures, verbose=True, cv=5)\n",
        "\n",
        "  run_results['ucf'][similarity] = cross_validate_user_based_cf\n",
        "  run_results['icf'][similarity] = cross_validate_item_based_cf\n",
        "  "
      ],
      "execution_count": 58,
      "outputs": [
        {
          "output_type": "stream",
          "name": "stdout",
          "text": [
            "Calculating cosine for User Based CF\n",
            "Computing the cosine similarity matrix...\n",
            "Done computing similarity matrix.\n",
            "Computing the cosine similarity matrix...\n",
            "Done computing similarity matrix.\n",
            "Computing the cosine similarity matrix...\n",
            "Done computing similarity matrix.\n",
            "Computing the cosine similarity matrix...\n",
            "Done computing similarity matrix.\n",
            "Computing the cosine similarity matrix...\n",
            "Done computing similarity matrix.\n",
            "Evaluating RMSE, MAE of algorithm KNNBasic on 5 split(s).\n",
            "\n",
            "                  Fold 1  Fold 2  Fold 3  Fold 4  Fold 5  Mean    Std     \n",
            "RMSE (testset)    1.0008  0.9961  0.9813  0.9904  0.9940  0.9925  0.0066  \n",
            "MAE (testset)     0.7733  0.7685  0.7575  0.7680  0.7667  0.7668  0.0051  \n",
            "Fit time          0.40    0.41    0.40    0.41    0.40    0.41    0.00    \n",
            "Test time         2.07    1.77    2.03    1.77    1.79    1.88    0.14    \n",
            "Calculating cosine for Item Based CF\n",
            "Computing the cosine similarity matrix...\n",
            "Done computing similarity matrix.\n",
            "Computing the cosine similarity matrix...\n",
            "Done computing similarity matrix.\n",
            "Computing the cosine similarity matrix...\n",
            "Done computing similarity matrix.\n",
            "Computing the cosine similarity matrix...\n",
            "Done computing similarity matrix.\n",
            "Computing the cosine similarity matrix...\n",
            "Done computing similarity matrix.\n",
            "Evaluating RMSE, MAE of algorithm KNNBasic on 5 split(s).\n",
            "\n",
            "                  Fold 1  Fold 2  Fold 3  Fold 4  Fold 5  Mean    Std     \n",
            "RMSE (testset)    0.9835  0.9958  0.9930  1.0061  0.9959  0.9949  0.0072  \n",
            "MAE (testset)     0.7675  0.7769  0.7731  0.7792  0.7732  0.7740  0.0040  \n",
            "Fit time          13.69   14.44   14.17   13.98   14.91   14.24   0.42    \n",
            "Test time         7.35    7.58    7.74    8.70    7.80    7.83    0.46    \n",
            "Calculating msd for User Based CF\n",
            "Computing the msd similarity matrix...\n",
            "Done computing similarity matrix.\n",
            "Computing the msd similarity matrix...\n",
            "Done computing similarity matrix.\n",
            "Computing the msd similarity matrix...\n",
            "Done computing similarity matrix.\n",
            "Computing the msd similarity matrix...\n",
            "Done computing similarity matrix.\n",
            "Computing the msd similarity matrix...\n",
            "Done computing similarity matrix.\n",
            "Evaluating RMSE, MAE of algorithm KNNBasic on 5 split(s).\n",
            "\n",
            "                  Fold 1  Fold 2  Fold 3  Fold 4  Fold 5  Mean    Std     \n",
            "RMSE (testset)    0.9692  0.9646  0.9700  0.9715  0.9626  0.9676  0.0034  \n",
            "MAE (testset)     0.7447  0.7423  0.7440  0.7479  0.7377  0.7433  0.0033  \n",
            "Fit time          0.22    0.17    0.18    0.17    0.17    0.18    0.02    \n",
            "Test time         1.78    1.80    1.77    1.84    1.78    1.79    0.02    \n",
            "Calculating msd for Item Based CF\n",
            "Computing the msd similarity matrix...\n",
            "Done computing similarity matrix.\n",
            "Computing the msd similarity matrix...\n",
            "Done computing similarity matrix.\n",
            "Computing the msd similarity matrix...\n",
            "Done computing similarity matrix.\n",
            "Computing the msd similarity matrix...\n",
            "Done computing similarity matrix.\n",
            "Computing the msd similarity matrix...\n",
            "Done computing similarity matrix.\n",
            "Evaluating RMSE, MAE of algorithm KNNBasic on 5 split(s).\n",
            "\n",
            "                  Fold 1  Fold 2  Fold 3  Fold 4  Fold 5  Mean    Std     \n",
            "RMSE (testset)    0.9362  0.9288  0.9371  0.9302  0.9446  0.9354  0.0056  \n",
            "MAE (testset)     0.7233  0.7180  0.7241  0.7159  0.7271  0.7217  0.0041  \n",
            "Fit time          4.15    4.32    4.01    4.19    3.94    4.12    0.13    \n",
            "Test time         7.77    7.75    7.81    8.02    8.02    7.88    0.12    \n",
            "Calculating pearson for User Based CF\n",
            "Computing the pearson similarity matrix...\n",
            "Done computing similarity matrix.\n",
            "Computing the pearson similarity matrix...\n",
            "Done computing similarity matrix.\n",
            "Computing the pearson similarity matrix...\n",
            "Done computing similarity matrix.\n",
            "Computing the pearson similarity matrix...\n",
            "Done computing similarity matrix.\n",
            "Computing the pearson similarity matrix...\n",
            "Done computing similarity matrix.\n",
            "Evaluating RMSE, MAE of algorithm KNNBasic on 5 split(s).\n",
            "\n",
            "                  Fold 1  Fold 2  Fold 3  Fold 4  Fold 5  Mean    Std     \n",
            "RMSE (testset)    0.9988  1.0018  0.9997  0.9986  1.0055  1.0009  0.0026  \n",
            "MAE (testset)     0.7706  0.7748  0.7783  0.7713  0.7787  0.7747  0.0034  \n",
            "Fit time          0.53    0.56    0.59    0.57    0.58    0.57    0.02    \n",
            "Test time         2.03    1.78    1.74    1.77    1.76    1.81    0.11    \n",
            "Calculating pearson for Item Based CF\n",
            "Computing the pearson similarity matrix...\n",
            "Done computing similarity matrix.\n",
            "Computing the pearson similarity matrix...\n",
            "Done computing similarity matrix.\n",
            "Computing the pearson similarity matrix...\n",
            "Done computing similarity matrix.\n",
            "Computing the pearson similarity matrix...\n",
            "Done computing similarity matrix.\n",
            "Computing the pearson similarity matrix...\n",
            "Done computing similarity matrix.\n",
            "Evaluating RMSE, MAE of algorithm KNNBasic on 5 split(s).\n",
            "\n",
            "                  Fold 1  Fold 2  Fold 3  Fold 4  Fold 5  Mean    Std     \n",
            "RMSE (testset)    0.9847  0.9975  0.9832  0.9887  0.9944  0.9897  0.0055  \n",
            "MAE (testset)     0.7668  0.7706  0.7635  0.7680  0.7694  0.7677  0.0024  \n",
            "Fit time          18.89   19.06   18.31   19.27   18.76   18.86   0.32    \n",
            "Test time         7.97    7.82    7.77    7.61    7.89    7.81    0.12    \n"
          ]
        }
      ]
    },
    {
      "cell_type": "code",
      "metadata": {
        "colab": {
          "base_uri": "https://localhost:8080/"
        },
        "id": "NpKUuwrnwsCf",
        "outputId": "4046f092-048a-44ee-d30e-acef7383b77c"
      },
      "source": [
        "min_k_value = 1\n",
        "mean = 99999\n",
        "ucf_k_results = []\n",
        "\n",
        "for i in range(20):\n",
        "  knn_ucf = KNNBasic(sim_options={'user_based': True}, k=i)\n",
        "  cv_knn_ucf = cross_validate(knn_ucf, data, measures, verbose=True, cv=5)\n",
        "\n",
        "  curr_mean = cv_knn_ucf['test_rmse'].mean()\n",
        "  if curr_mean < mean:\n",
        "    mean = curr_mean\n",
        "    min_k_value = i\n",
        "  ucf_k_results.append(curr_mean)\n",
        "  print(i)\n",
        "\n",
        "print(min_k_value, mean)"
      ],
      "execution_count": 59,
      "outputs": [
        {
          "output_type": "stream",
          "name": "stdout",
          "text": [
            "Computing the msd similarity matrix...\n",
            "Done computing similarity matrix.\n",
            "Computing the msd similarity matrix...\n",
            "Done computing similarity matrix.\n",
            "Computing the msd similarity matrix...\n",
            "Done computing similarity matrix.\n",
            "Computing the msd similarity matrix...\n",
            "Done computing similarity matrix.\n",
            "Computing the msd similarity matrix...\n",
            "Done computing similarity matrix.\n",
            "Evaluating RMSE, MAE of algorithm KNNBasic on 5 split(s).\n",
            "\n",
            "                  Fold 1  Fold 2  Fold 3  Fold 4  Fold 5  Mean    Std     \n",
            "RMSE (testset)    1.0501  1.0579  1.0602  1.0621  1.0601  1.0581  0.0042  \n",
            "MAE (testset)     0.8462  0.8479  0.8512  0.8524  0.8513  0.8498  0.0024  \n",
            "Fit time          0.15    0.18    0.18    0.17    0.17    0.17    0.01    \n",
            "Test time         0.85    0.83    0.83    0.81    1.10    0.88    0.11    \n",
            "0\n",
            "Computing the msd similarity matrix...\n",
            "Done computing similarity matrix.\n",
            "Computing the msd similarity matrix...\n",
            "Done computing similarity matrix.\n",
            "Computing the msd similarity matrix...\n",
            "Done computing similarity matrix.\n",
            "Computing the msd similarity matrix...\n",
            "Done computing similarity matrix.\n",
            "Computing the msd similarity matrix...\n",
            "Done computing similarity matrix.\n",
            "Evaluating RMSE, MAE of algorithm KNNBasic on 5 split(s).\n",
            "\n",
            "                  Fold 1  Fold 2  Fold 3  Fold 4  Fold 5  Mean    Std     \n",
            "RMSE (testset)    1.2031  1.2173  1.2040  1.2252  1.2091  1.2117  0.0084  \n",
            "MAE (testset)     0.8968  0.9076  0.9029  0.9172  0.9012  0.9052  0.0070  \n",
            "Fit time          0.15    0.17    0.19    0.17    0.18    0.17    0.01    \n",
            "Test time         0.97    0.97    0.99    0.96    1.00    0.98    0.01    \n",
            "1\n",
            "Computing the msd similarity matrix...\n",
            "Done computing similarity matrix.\n",
            "Computing the msd similarity matrix...\n",
            "Done computing similarity matrix.\n",
            "Computing the msd similarity matrix...\n",
            "Done computing similarity matrix.\n",
            "Computing the msd similarity matrix...\n",
            "Done computing similarity matrix.\n",
            "Computing the msd similarity matrix...\n",
            "Done computing similarity matrix.\n",
            "Evaluating RMSE, MAE of algorithm KNNBasic on 5 split(s).\n",
            "\n",
            "                  Fold 1  Fold 2  Fold 3  Fold 4  Fold 5  Mean    Std     \n",
            "RMSE (testset)    1.0724  1.0640  1.0683  1.0737  1.0752  1.0707  0.0041  \n",
            "MAE (testset)     0.8172  0.8103  0.8151  0.8192  0.8194  0.8162  0.0034  \n",
            "Fit time          0.15    0.18    0.17    0.19    0.18    0.17    0.01    \n",
            "Test time         1.11    1.40    1.12    1.11    1.12    1.17    0.11    \n",
            "2\n",
            "Computing the msd similarity matrix...\n",
            "Done computing similarity matrix.\n",
            "Computing the msd similarity matrix...\n",
            "Done computing similarity matrix.\n",
            "Computing the msd similarity matrix...\n",
            "Done computing similarity matrix.\n",
            "Computing the msd similarity matrix...\n",
            "Done computing similarity matrix.\n",
            "Computing the msd similarity matrix...\n",
            "Done computing similarity matrix.\n",
            "Evaluating RMSE, MAE of algorithm KNNBasic on 5 split(s).\n",
            "\n",
            "                  Fold 1  Fold 2  Fold 3  Fold 4  Fold 5  Mean    Std     \n",
            "RMSE (testset)    1.0214  1.0324  1.0268  1.0197  1.0268  1.0254  0.0045  \n",
            "MAE (testset)     0.7825  0.7881  0.7854  0.7826  0.7860  0.7849  0.0021  \n",
            "Fit time          0.14    0.17    0.18    0.19    0.18    0.17    0.02    \n",
            "Test time         1.15    1.43    1.16    1.16    1.17    1.21    0.11    \n",
            "3\n",
            "Computing the msd similarity matrix...\n",
            "Done computing similarity matrix.\n",
            "Computing the msd similarity matrix...\n",
            "Done computing similarity matrix.\n",
            "Computing the msd similarity matrix...\n",
            "Done computing similarity matrix.\n",
            "Computing the msd similarity matrix...\n",
            "Done computing similarity matrix.\n",
            "Computing the msd similarity matrix...\n",
            "Done computing similarity matrix.\n",
            "Evaluating RMSE, MAE of algorithm KNNBasic on 5 split(s).\n",
            "\n",
            "                  Fold 1  Fold 2  Fold 3  Fold 4  Fold 5  Mean    Std     \n",
            "RMSE (testset)    0.9996  1.0000  1.0026  0.9968  0.9986  0.9995  0.0019  \n",
            "MAE (testset)     0.7632  0.7659  0.7671  0.7632  0.7663  0.7651  0.0016  \n",
            "Fit time          0.14    0.17    0.18    0.18    0.19    0.17    0.02    \n",
            "Test time         1.20    1.47    1.20    1.48    1.19    1.31    0.14    \n",
            "4\n",
            "Computing the msd similarity matrix...\n",
            "Done computing similarity matrix.\n",
            "Computing the msd similarity matrix...\n",
            "Done computing similarity matrix.\n",
            "Computing the msd similarity matrix...\n",
            "Done computing similarity matrix.\n",
            "Computing the msd similarity matrix...\n",
            "Done computing similarity matrix.\n",
            "Computing the msd similarity matrix...\n",
            "Done computing similarity matrix.\n",
            "Evaluating RMSE, MAE of algorithm KNNBasic on 5 split(s).\n",
            "\n",
            "                  Fold 1  Fold 2  Fold 3  Fold 4  Fold 5  Mean    Std     \n",
            "RMSE (testset)    0.9931  0.9913  0.9859  0.9764  0.9885  0.9870  0.0059  \n",
            "MAE (testset)     0.7590  0.7592  0.7539  0.7478  0.7544  0.7549  0.0041  \n",
            "Fit time          0.18    0.18    0.18    0.18    0.20    0.18    0.01    \n",
            "Test time         1.23    1.50    1.26    1.50    1.25    1.35    0.12    \n",
            "5\n",
            "Computing the msd similarity matrix...\n",
            "Done computing similarity matrix.\n",
            "Computing the msd similarity matrix...\n",
            "Done computing similarity matrix.\n",
            "Computing the msd similarity matrix...\n",
            "Done computing similarity matrix.\n",
            "Computing the msd similarity matrix...\n",
            "Done computing similarity matrix.\n",
            "Computing the msd similarity matrix...\n",
            "Done computing similarity matrix.\n",
            "Evaluating RMSE, MAE of algorithm KNNBasic on 5 split(s).\n",
            "\n",
            "                  Fold 1  Fold 2  Fold 3  Fold 4  Fold 5  Mean    Std     \n",
            "RMSE (testset)    0.9845  0.9742  0.9800  0.9801  0.9769  0.9791  0.0035  \n",
            "MAE (testset)     0.7525  0.7468  0.7503  0.7487  0.7464  0.7489  0.0023  \n",
            "Fit time          0.14    0.17    0.18    0.18    0.18    0.17    0.01    \n",
            "Test time         1.28    1.52    1.25    1.53    1.28    1.37    0.12    \n",
            "6\n",
            "Computing the msd similarity matrix...\n",
            "Done computing similarity matrix.\n",
            "Computing the msd similarity matrix...\n",
            "Done computing similarity matrix.\n",
            "Computing the msd similarity matrix...\n",
            "Done computing similarity matrix.\n",
            "Computing the msd similarity matrix...\n",
            "Done computing similarity matrix.\n",
            "Computing the msd similarity matrix...\n",
            "Done computing similarity matrix.\n",
            "Evaluating RMSE, MAE of algorithm KNNBasic on 5 split(s).\n",
            "\n",
            "                  Fold 1  Fold 2  Fold 3  Fold 4  Fold 5  Mean    Std     \n",
            "RMSE (testset)    0.9690  0.9699  0.9761  0.9795  0.9651  0.9719  0.0052  \n",
            "MAE (testset)     0.7393  0.7422  0.7455  0.7521  0.7367  0.7432  0.0053  \n",
            "Fit time          0.14    0.18    0.18    0.18    0.17    0.17    0.02    \n",
            "Test time         1.29    1.54    1.31    1.59    1.31    1.41    0.13    \n",
            "7\n",
            "Computing the msd similarity matrix...\n",
            "Done computing similarity matrix.\n",
            "Computing the msd similarity matrix...\n",
            "Done computing similarity matrix.\n",
            "Computing the msd similarity matrix...\n",
            "Done computing similarity matrix.\n",
            "Computing the msd similarity matrix...\n",
            "Done computing similarity matrix.\n",
            "Computing the msd similarity matrix...\n",
            "Done computing similarity matrix.\n",
            "Evaluating RMSE, MAE of algorithm KNNBasic on 5 split(s).\n",
            "\n",
            "                  Fold 1  Fold 2  Fold 3  Fold 4  Fold 5  Mean    Std     \n",
            "RMSE (testset)    0.9655  0.9660  0.9768  0.9701  0.9676  0.9692  0.0041  \n",
            "MAE (testset)     0.7388  0.7403  0.7439  0.7413  0.7393  0.7407  0.0018  \n",
            "Fit time          0.14    0.18    0.19    0.18    0.17    0.17    0.02    \n",
            "Test time         1.33    1.31    1.32    1.58    1.34    1.38    0.10    \n",
            "8\n",
            "Computing the msd similarity matrix...\n",
            "Done computing similarity matrix.\n",
            "Computing the msd similarity matrix...\n",
            "Done computing similarity matrix.\n",
            "Computing the msd similarity matrix...\n",
            "Done computing similarity matrix.\n",
            "Computing the msd similarity matrix...\n",
            "Done computing similarity matrix.\n",
            "Computing the msd similarity matrix...\n",
            "Done computing similarity matrix.\n",
            "Evaluating RMSE, MAE of algorithm KNNBasic on 5 split(s).\n",
            "\n",
            "                  Fold 1  Fold 2  Fold 3  Fold 4  Fold 5  Mean    Std     \n",
            "RMSE (testset)    0.9644  0.9629  0.9621  0.9745  0.9686  0.9665  0.0046  \n",
            "MAE (testset)     0.7393  0.7370  0.7352  0.7441  0.7400  0.7391  0.0030  \n",
            "Fit time          0.15    0.18    0.18    0.19    0.18    0.17    0.01    \n",
            "Test time         1.36    1.36    1.39    1.61    1.33    1.41    0.10    \n",
            "9\n",
            "Computing the msd similarity matrix...\n",
            "Done computing similarity matrix.\n",
            "Computing the msd similarity matrix...\n",
            "Done computing similarity matrix.\n",
            "Computing the msd similarity matrix...\n",
            "Done computing similarity matrix.\n",
            "Computing the msd similarity matrix...\n",
            "Done computing similarity matrix.\n",
            "Computing the msd similarity matrix...\n",
            "Done computing similarity matrix.\n",
            "Evaluating RMSE, MAE of algorithm KNNBasic on 5 split(s).\n",
            "\n",
            "                  Fold 1  Fold 2  Fold 3  Fold 4  Fold 5  Mean    Std     \n",
            "RMSE (testset)    0.9633  0.9629  0.9784  0.9691  0.9577  0.9663  0.0071  \n",
            "MAE (testset)     0.7348  0.7356  0.7453  0.7453  0.7332  0.7388  0.0053  \n",
            "Fit time          0.15    0.17    0.18    0.18    0.18    0.17    0.01    \n",
            "Test time         1.39    1.41    1.40    1.67    1.38    1.45    0.11    \n",
            "10\n",
            "Computing the msd similarity matrix...\n",
            "Done computing similarity matrix.\n",
            "Computing the msd similarity matrix...\n",
            "Done computing similarity matrix.\n",
            "Computing the msd similarity matrix...\n",
            "Done computing similarity matrix.\n",
            "Computing the msd similarity matrix...\n",
            "Done computing similarity matrix.\n",
            "Computing the msd similarity matrix...\n",
            "Done computing similarity matrix.\n",
            "Evaluating RMSE, MAE of algorithm KNNBasic on 5 split(s).\n",
            "\n",
            "                  Fold 1  Fold 2  Fold 3  Fold 4  Fold 5  Mean    Std     \n",
            "RMSE (testset)    0.9648  0.9613  0.9566  0.9720  0.9643  0.9638  0.0050  \n",
            "MAE (testset)     0.7391  0.7329  0.7328  0.7438  0.7367  0.7371  0.0041  \n",
            "Fit time          0.14    0.18    0.17    0.18    0.18    0.17    0.02    \n",
            "Test time         1.65    1.43    1.38    1.66    1.40    1.51    0.12    \n",
            "11\n",
            "Computing the msd similarity matrix...\n",
            "Done computing similarity matrix.\n",
            "Computing the msd similarity matrix...\n",
            "Done computing similarity matrix.\n",
            "Computing the msd similarity matrix...\n",
            "Done computing similarity matrix.\n",
            "Computing the msd similarity matrix...\n",
            "Done computing similarity matrix.\n",
            "Computing the msd similarity matrix...\n",
            "Done computing similarity matrix.\n",
            "Evaluating RMSE, MAE of algorithm KNNBasic on 5 split(s).\n",
            "\n",
            "                  Fold 1  Fold 2  Fold 3  Fold 4  Fold 5  Mean    Std     \n",
            "RMSE (testset)    0.9639  0.9636  0.9512  0.9607  0.9692  0.9617  0.0059  \n",
            "MAE (testset)     0.7385  0.7367  0.7283  0.7342  0.7419  0.7359  0.0046  \n",
            "Fit time          0.19    0.17    0.18    0.18    0.18    0.18    0.01    \n",
            "Test time         1.71    1.44    1.42    1.44    1.42    1.49    0.11    \n",
            "12\n",
            "Computing the msd similarity matrix...\n",
            "Done computing similarity matrix.\n",
            "Computing the msd similarity matrix...\n",
            "Done computing similarity matrix.\n",
            "Computing the msd similarity matrix...\n",
            "Done computing similarity matrix.\n",
            "Computing the msd similarity matrix...\n",
            "Done computing similarity matrix.\n",
            "Computing the msd similarity matrix...\n",
            "Done computing similarity matrix.\n",
            "Evaluating RMSE, MAE of algorithm KNNBasic on 5 split(s).\n",
            "\n",
            "                  Fold 1  Fold 2  Fold 3  Fold 4  Fold 5  Mean    Std     \n",
            "RMSE (testset)    0.9651  0.9619  0.9534  0.9593  0.9692  0.9618  0.0053  \n",
            "MAE (testset)     0.7382  0.7351  0.7321  0.7361  0.7396  0.7362  0.0026  \n",
            "Fit time          0.13    0.17    0.18    0.17    0.18    0.17    0.02    \n",
            "Test time         1.72    1.44    1.47    1.48    1.45    1.51    0.10    \n",
            "13\n",
            "Computing the msd similarity matrix...\n",
            "Done computing similarity matrix.\n",
            "Computing the msd similarity matrix...\n",
            "Done computing similarity matrix.\n",
            "Computing the msd similarity matrix...\n",
            "Done computing similarity matrix.\n",
            "Computing the msd similarity matrix...\n",
            "Done computing similarity matrix.\n",
            "Computing the msd similarity matrix...\n",
            "Done computing similarity matrix.\n",
            "Evaluating RMSE, MAE of algorithm KNNBasic on 5 split(s).\n",
            "\n",
            "                  Fold 1  Fold 2  Fold 3  Fold 4  Fold 5  Mean    Std     \n",
            "RMSE (testset)    0.9593  0.9620  0.9647  0.9635  0.9613  0.9622  0.0018  \n",
            "MAE (testset)     0.7343  0.7365  0.7385  0.7371  0.7375  0.7368  0.0014  \n",
            "Fit time          0.14    0.18    0.18    0.18    0.17    0.17    0.01    \n",
            "Test time         1.74    1.49    1.75    1.47    1.47    1.58    0.13    \n",
            "14\n",
            "Computing the msd similarity matrix...\n",
            "Done computing similarity matrix.\n",
            "Computing the msd similarity matrix...\n",
            "Done computing similarity matrix.\n",
            "Computing the msd similarity matrix...\n",
            "Done computing similarity matrix.\n",
            "Computing the msd similarity matrix...\n",
            "Done computing similarity matrix.\n",
            "Computing the msd similarity matrix...\n",
            "Done computing similarity matrix.\n",
            "Evaluating RMSE, MAE of algorithm KNNBasic on 5 split(s).\n",
            "\n",
            "                  Fold 1  Fold 2  Fold 3  Fold 4  Fold 5  Mean    Std     \n",
            "RMSE (testset)    0.9629  0.9632  0.9592  0.9602  0.9607  0.9612  0.0015  \n",
            "MAE (testset)     0.7371  0.7374  0.7353  0.7332  0.7373  0.7361  0.0016  \n",
            "Fit time          0.14    0.18    0.17    0.18    0.18    0.17    0.01    \n",
            "Test time         1.74    1.49    1.77    1.53    1.52    1.61    0.12    \n",
            "15\n",
            "Computing the msd similarity matrix...\n",
            "Done computing similarity matrix.\n",
            "Computing the msd similarity matrix...\n",
            "Done computing similarity matrix.\n",
            "Computing the msd similarity matrix...\n",
            "Done computing similarity matrix.\n",
            "Computing the msd similarity matrix...\n",
            "Done computing similarity matrix.\n",
            "Computing the msd similarity matrix...\n",
            "Done computing similarity matrix.\n",
            "Evaluating RMSE, MAE of algorithm KNNBasic on 5 split(s).\n",
            "\n",
            "                  Fold 1  Fold 2  Fold 3  Fold 4  Fold 5  Mean    Std     \n",
            "RMSE (testset)    0.9534  0.9625  0.9632  0.9582  0.9659  0.9606  0.0044  \n",
            "MAE (testset)     0.7300  0.7396  0.7367  0.7361  0.7372  0.7359  0.0032  \n",
            "Fit time          0.14    0.18    0.17    0.18    0.17    0.17    0.01    \n",
            "Test time         1.51    1.51    1.79    1.53    1.52    1.57    0.11    \n",
            "16\n",
            "Computing the msd similarity matrix...\n",
            "Done computing similarity matrix.\n",
            "Computing the msd similarity matrix...\n",
            "Done computing similarity matrix.\n",
            "Computing the msd similarity matrix...\n",
            "Done computing similarity matrix.\n",
            "Computing the msd similarity matrix...\n",
            "Done computing similarity matrix.\n",
            "Computing the msd similarity matrix...\n",
            "Done computing similarity matrix.\n",
            "Evaluating RMSE, MAE of algorithm KNNBasic on 5 split(s).\n",
            "\n",
            "                  Fold 1  Fold 2  Fold 3  Fold 4  Fold 5  Mean    Std     \n",
            "RMSE (testset)    0.9632  0.9631  0.9643  0.9700  0.9537  0.9629  0.0052  \n",
            "MAE (testset)     0.7369  0.7342  0.7420  0.7427  0.7326  0.7377  0.0041  \n",
            "Fit time          0.13    0.17    0.18    0.18    0.19    0.17    0.02    \n",
            "Test time         1.54    1.54    1.84    1.52    1.81    1.65    0.14    \n",
            "17\n",
            "Computing the msd similarity matrix...\n",
            "Done computing similarity matrix.\n",
            "Computing the msd similarity matrix...\n",
            "Done computing similarity matrix.\n",
            "Computing the msd similarity matrix...\n",
            "Done computing similarity matrix.\n",
            "Computing the msd similarity matrix...\n",
            "Done computing similarity matrix.\n",
            "Computing the msd similarity matrix...\n",
            "Done computing similarity matrix.\n",
            "Evaluating RMSE, MAE of algorithm KNNBasic on 5 split(s).\n",
            "\n",
            "                  Fold 1  Fold 2  Fold 3  Fold 4  Fold 5  Mean    Std     \n",
            "RMSE (testset)    0.9618  0.9632  0.9630  0.9667  0.9566  0.9623  0.0032  \n",
            "MAE (testset)     0.7378  0.7401  0.7372  0.7415  0.7315  0.7376  0.0034  \n",
            "Fit time          0.14    0.18    0.18    0.18    0.18    0.17    0.02    \n",
            "Test time         1.54    1.54    1.82    1.57    1.82    1.66    0.13    \n",
            "18\n",
            "Computing the msd similarity matrix...\n",
            "Done computing similarity matrix.\n",
            "Computing the msd similarity matrix...\n",
            "Done computing similarity matrix.\n",
            "Computing the msd similarity matrix...\n",
            "Done computing similarity matrix.\n",
            "Computing the msd similarity matrix...\n",
            "Done computing similarity matrix.\n",
            "Computing the msd similarity matrix...\n",
            "Done computing similarity matrix.\n",
            "Evaluating RMSE, MAE of algorithm KNNBasic on 5 split(s).\n",
            "\n",
            "                  Fold 1  Fold 2  Fold 3  Fold 4  Fold 5  Mean    Std     \n",
            "RMSE (testset)    0.9612  0.9603  0.9631  0.9622  0.9594  0.9612  0.0013  \n",
            "MAE (testset)     0.7376  0.7355  0.7383  0.7375  0.7354  0.7369  0.0012  \n",
            "Fit time          0.15    0.18    0.18    0.17    0.18    0.17    0.01    \n",
            "Test time         1.56    1.56    1.87    1.57    1.82    1.68    0.14    \n",
            "19\n",
            "16 0.9606470904789836\n"
          ]
        }
      ]
    },
    {
      "cell_type": "code",
      "metadata": {
        "colab": {
          "base_uri": "https://localhost:8080/"
        },
        "id": "7YhsZWGn3-ls",
        "outputId": "9e995aad-2b3f-42b7-ec75-d78d649fdafb"
      },
      "source": [
        "min_k_value = 1\n",
        "mean = 99999\n",
        "icf_k_results = []\n",
        "\n",
        "for i in range(20):\n",
        "  knn_ucf = KNNBasic(sim_options={'user_based': False}, k=i)\n",
        "  cv_knn_ucf = cross_validate(knn_ucf, data, measures, verbose=True, cv=5)\n",
        "\n",
        "  curr_mean = cv_knn_ucf['test_rmse'].mean()\n",
        "  if curr_mean < mean:\n",
        "    mean = curr_mean\n",
        "    min_k_value = i\n",
        "  icf_k_results.append(curr_mean)\n",
        "\n",
        "print(min_k_value, mean)\n"
      ],
      "execution_count": 60,
      "outputs": [
        {
          "output_type": "stream",
          "name": "stdout",
          "text": [
            "Computing the msd similarity matrix...\n",
            "Done computing similarity matrix.\n",
            "Computing the msd similarity matrix...\n",
            "Done computing similarity matrix.\n",
            "Computing the msd similarity matrix...\n",
            "Done computing similarity matrix.\n",
            "Computing the msd similarity matrix...\n",
            "Done computing similarity matrix.\n",
            "Computing the msd similarity matrix...\n",
            "Done computing similarity matrix.\n",
            "Evaluating RMSE, MAE of algorithm KNNBasic on 5 split(s).\n",
            "\n",
            "                  Fold 1  Fold 2  Fold 3  Fold 4  Fold 5  Mean    Std     \n",
            "RMSE (testset)    1.0639  1.0593  1.0642  1.0525  1.0504  1.0580  0.0057  \n",
            "MAE (testset)     0.8538  0.8503  0.8559  0.8454  0.8436  0.8498  0.0047  \n",
            "Fit time          5.97    4.00    4.18    3.99    4.38    4.50    0.75    \n",
            "Test time         4.44    4.67    4.91    4.58    4.78    4.67    0.16    \n",
            "Computing the msd similarity matrix...\n",
            "Done computing similarity matrix.\n",
            "Computing the msd similarity matrix...\n",
            "Done computing similarity matrix.\n",
            "Computing the msd similarity matrix...\n",
            "Done computing similarity matrix.\n",
            "Computing the msd similarity matrix...\n",
            "Done computing similarity matrix.\n",
            "Computing the msd similarity matrix...\n",
            "Done computing similarity matrix.\n",
            "Evaluating RMSE, MAE of algorithm KNNBasic on 5 split(s).\n",
            "\n",
            "                  Fold 1  Fold 2  Fold 3  Fold 4  Fold 5  Mean    Std     \n",
            "RMSE (testset)    1.2951  1.3008  1.2880  1.3015  1.3070  1.2985  0.0065  \n",
            "MAE (testset)     0.9594  0.9681  0.9508  0.9618  0.9675  0.9615  0.0063  \n",
            "Fit time          3.98    3.96    4.17    3.93    4.43    4.09    0.19    \n",
            "Test time         5.46    5.67    5.74    5.81    6.18    5.77    0.23    \n",
            "Computing the msd similarity matrix...\n",
            "Done computing similarity matrix.\n",
            "Computing the msd similarity matrix...\n",
            "Done computing similarity matrix.\n",
            "Computing the msd similarity matrix...\n",
            "Done computing similarity matrix.\n",
            "Computing the msd similarity matrix...\n",
            "Done computing similarity matrix.\n",
            "Computing the msd similarity matrix...\n",
            "Done computing similarity matrix.\n",
            "Evaluating RMSE, MAE of algorithm KNNBasic on 5 split(s).\n",
            "\n",
            "                  Fold 1  Fold 2  Fold 3  Fold 4  Fold 5  Mean    Std     \n",
            "RMSE (testset)    1.1351  1.1430  1.1508  1.1440  1.1468  1.1439  0.0052  \n",
            "MAE (testset)     0.8647  0.8734  0.8806  0.8750  0.8736  0.8734  0.0051  \n",
            "Fit time          4.12    3.85    4.21    4.06    4.39    4.13    0.18    \n",
            "Test time         6.00    6.40    6.06    6.10    6.38    6.19    0.17    \n",
            "Computing the msd similarity matrix...\n",
            "Done computing similarity matrix.\n",
            "Computing the msd similarity matrix...\n",
            "Done computing similarity matrix.\n",
            "Computing the msd similarity matrix...\n",
            "Done computing similarity matrix.\n",
            "Computing the msd similarity matrix...\n",
            "Done computing similarity matrix.\n",
            "Computing the msd similarity matrix...\n",
            "Done computing similarity matrix.\n",
            "Evaluating RMSE, MAE of algorithm KNNBasic on 5 split(s).\n",
            "\n",
            "                  Fold 1  Fold 2  Fold 3  Fold 4  Fold 5  Mean    Std     \n",
            "RMSE (testset)    1.0788  1.0777  1.0906  1.0846  1.0674  1.0798  0.0077  \n",
            "MAE (testset)     0.8293  0.8298  0.8395  0.8354  0.8211  0.8310  0.0062  \n",
            "Fit time          4.13    3.93    4.29    3.99    4.16    4.10    0.13    \n",
            "Test time         6.02    6.18    6.39    6.19    6.47    6.25    0.16    \n",
            "Computing the msd similarity matrix...\n",
            "Done computing similarity matrix.\n",
            "Computing the msd similarity matrix...\n",
            "Done computing similarity matrix.\n",
            "Computing the msd similarity matrix...\n",
            "Done computing similarity matrix.\n",
            "Computing the msd similarity matrix...\n",
            "Done computing similarity matrix.\n",
            "Computing the msd similarity matrix...\n",
            "Done computing similarity matrix.\n",
            "Evaluating RMSE, MAE of algorithm KNNBasic on 5 split(s).\n",
            "\n",
            "                  Fold 1  Fold 2  Fold 3  Fold 4  Fold 5  Mean    Std     \n",
            "RMSE (testset)    1.0383  1.0462  1.0503  1.0475  1.0374  1.0439  0.0052  \n",
            "MAE (testset)     0.8017  0.8067  0.8095  0.8125  0.8016  0.8064  0.0043  \n",
            "Fit time          4.07    3.92    4.64    3.88    4.23    4.15    0.27    \n",
            "Test time         6.12    6.19    6.19    6.40    6.40    6.26    0.12    \n",
            "Computing the msd similarity matrix...\n",
            "Done computing similarity matrix.\n",
            "Computing the msd similarity matrix...\n",
            "Done computing similarity matrix.\n",
            "Computing the msd similarity matrix...\n",
            "Done computing similarity matrix.\n",
            "Computing the msd similarity matrix...\n",
            "Done computing similarity matrix.\n",
            "Computing the msd similarity matrix...\n",
            "Done computing similarity matrix.\n",
            "Evaluating RMSE, MAE of algorithm KNNBasic on 5 split(s).\n",
            "\n",
            "                  Fold 1  Fold 2  Fold 3  Fold 4  Fold 5  Mean    Std     \n",
            "RMSE (testset)    1.0313  1.0237  1.0188  1.0151  1.0302  1.0238  0.0063  \n",
            "MAE (testset)     0.7978  0.7941  0.7883  0.7870  0.7998  0.7934  0.0050  \n",
            "Fit time          4.09    3.94    4.42    3.82    4.13    4.08    0.20    \n",
            "Test time         6.10    6.66    6.53    6.23    6.28    6.36    0.21    \n",
            "Computing the msd similarity matrix...\n",
            "Done computing similarity matrix.\n",
            "Computing the msd similarity matrix...\n",
            "Done computing similarity matrix.\n",
            "Computing the msd similarity matrix...\n",
            "Done computing similarity matrix.\n",
            "Computing the msd similarity matrix...\n",
            "Done computing similarity matrix.\n",
            "Computing the msd similarity matrix...\n",
            "Done computing similarity matrix.\n",
            "Evaluating RMSE, MAE of algorithm KNNBasic on 5 split(s).\n",
            "\n",
            "                  Fold 1  Fold 2  Fold 3  Fold 4  Fold 5  Mean    Std     \n",
            "RMSE (testset)    1.0055  0.9987  1.0118  1.0054  1.0097  1.0062  0.0045  \n",
            "MAE (testset)     0.7793  0.7724  0.7839  0.7739  0.7805  0.7780  0.0042  \n",
            "Fit time          4.17    4.05    4.43    4.39    4.35    4.28    0.14    \n",
            "Test time         6.11    6.69    7.63    7.00    6.29    6.74    0.54    \n",
            "Computing the msd similarity matrix...\n",
            "Done computing similarity matrix.\n",
            "Computing the msd similarity matrix...\n",
            "Done computing similarity matrix.\n",
            "Computing the msd similarity matrix...\n",
            "Done computing similarity matrix.\n",
            "Computing the msd similarity matrix...\n",
            "Done computing similarity matrix.\n",
            "Computing the msd similarity matrix...\n",
            "Done computing similarity matrix.\n",
            "Evaluating RMSE, MAE of algorithm KNNBasic on 5 split(s).\n",
            "\n",
            "                  Fold 1  Fold 2  Fold 3  Fold 4  Fold 5  Mean    Std     \n",
            "RMSE (testset)    1.0085  0.9911  0.9875  0.9982  0.9992  0.9969  0.0072  \n",
            "MAE (testset)     0.7799  0.7658  0.7669  0.7707  0.7725  0.7712  0.0050  \n",
            "Fit time          4.14    3.93    4.07    3.94    4.61    4.14    0.25    \n",
            "Test time         6.44    6.56    6.35    6.75    6.42    6.50    0.14    \n",
            "Computing the msd similarity matrix...\n",
            "Done computing similarity matrix.\n",
            "Computing the msd similarity matrix...\n",
            "Done computing similarity matrix.\n",
            "Computing the msd similarity matrix...\n",
            "Done computing similarity matrix.\n",
            "Computing the msd similarity matrix...\n",
            "Done computing similarity matrix.\n",
            "Computing the msd similarity matrix...\n",
            "Done computing similarity matrix.\n",
            "Evaluating RMSE, MAE of algorithm KNNBasic on 5 split(s).\n",
            "\n",
            "                  Fold 1  Fold 2  Fold 3  Fold 4  Fold 5  Mean    Std     \n",
            "RMSE (testset)    0.9850  0.9950  0.9887  0.9848  0.9850  0.9877  0.0039  \n",
            "MAE (testset)     0.7620  0.7701  0.7660  0.7635  0.7611  0.7645  0.0033  \n",
            "Fit time          4.00    4.08    4.41    4.22    4.31    4.20    0.15    \n",
            "Test time         6.32    6.48    6.68    6.73    6.52    6.55    0.15    \n",
            "Computing the msd similarity matrix...\n",
            "Done computing similarity matrix.\n",
            "Computing the msd similarity matrix...\n",
            "Done computing similarity matrix.\n",
            "Computing the msd similarity matrix...\n",
            "Done computing similarity matrix.\n",
            "Computing the msd similarity matrix...\n",
            "Done computing similarity matrix.\n",
            "Computing the msd similarity matrix...\n",
            "Done computing similarity matrix.\n",
            "Evaluating RMSE, MAE of algorithm KNNBasic on 5 split(s).\n",
            "\n",
            "                  Fold 1  Fold 2  Fold 3  Fold 4  Fold 5  Mean    Std     \n",
            "RMSE (testset)    0.9810  0.9781  0.9868  0.9875  0.9674  0.9802  0.0073  \n",
            "MAE (testset)     0.7588  0.7561  0.7632  0.7660  0.7469  0.7582  0.0066  \n",
            "Fit time          4.17    4.01    4.43    3.98    4.35    4.19    0.18    \n",
            "Test time         6.72    6.46    6.67    6.76    6.54    6.63    0.11    \n",
            "Computing the msd similarity matrix...\n",
            "Done computing similarity matrix.\n",
            "Computing the msd similarity matrix...\n",
            "Done computing similarity matrix.\n",
            "Computing the msd similarity matrix...\n",
            "Done computing similarity matrix.\n",
            "Computing the msd similarity matrix...\n",
            "Done computing similarity matrix.\n",
            "Computing the msd similarity matrix...\n",
            "Done computing similarity matrix.\n",
            "Evaluating RMSE, MAE of algorithm KNNBasic on 5 split(s).\n",
            "\n",
            "                  Fold 1  Fold 2  Fold 3  Fold 4  Fold 5  Mean    Std     \n",
            "RMSE (testset)    0.9789  0.9750  0.9755  0.9693  0.9726  0.9743  0.0032  \n",
            "MAE (testset)     0.7570  0.7540  0.7550  0.7500  0.7545  0.7541  0.0023  \n",
            "Fit time          3.98    4.20    3.96    4.36    4.09    4.12    0.15    \n",
            "Test time         6.59    6.46    6.57    6.76    6.48    6.57    0.11    \n",
            "Computing the msd similarity matrix...\n",
            "Done computing similarity matrix.\n",
            "Computing the msd similarity matrix...\n",
            "Done computing similarity matrix.\n",
            "Computing the msd similarity matrix...\n",
            "Done computing similarity matrix.\n",
            "Computing the msd similarity matrix...\n",
            "Done computing similarity matrix.\n",
            "Computing the msd similarity matrix...\n",
            "Done computing similarity matrix.\n",
            "Evaluating RMSE, MAE of algorithm KNNBasic on 5 split(s).\n",
            "\n",
            "                  Fold 1  Fold 2  Fold 3  Fold 4  Fold 5  Mean    Std     \n",
            "RMSE (testset)    0.9804  0.9753  0.9670  0.9683  0.9690  0.9720  0.0051  \n",
            "MAE (testset)     0.7584  0.7527  0.7503  0.7508  0.7504  0.7525  0.0031  \n",
            "Fit time          4.08    3.95    4.39    4.00    4.28    4.14    0.17    \n",
            "Test time         6.61    6.55    6.43    6.84    6.76    6.64    0.14    \n",
            "Computing the msd similarity matrix...\n",
            "Done computing similarity matrix.\n",
            "Computing the msd similarity matrix...\n",
            "Done computing similarity matrix.\n",
            "Computing the msd similarity matrix...\n",
            "Done computing similarity matrix.\n",
            "Computing the msd similarity matrix...\n",
            "Done computing similarity matrix.\n",
            "Computing the msd similarity matrix...\n",
            "Done computing similarity matrix.\n",
            "Evaluating RMSE, MAE of algorithm KNNBasic on 5 split(s).\n",
            "\n",
            "                  Fold 1  Fold 2  Fold 3  Fold 4  Fold 5  Mean    Std     \n",
            "RMSE (testset)    0.9704  0.9665  0.9670  0.9603  0.9681  0.9665  0.0034  \n",
            "MAE (testset)     0.7516  0.7498  0.7474  0.7393  0.7490  0.7474  0.0043  \n",
            "Fit time          4.09    3.98    4.43    3.94    4.16    4.12    0.17    \n",
            "Test time         6.65    6.54    6.64    6.91    6.65    6.68    0.12    \n",
            "Computing the msd similarity matrix...\n",
            "Done computing similarity matrix.\n",
            "Computing the msd similarity matrix...\n",
            "Done computing similarity matrix.\n",
            "Computing the msd similarity matrix...\n",
            "Done computing similarity matrix.\n",
            "Computing the msd similarity matrix...\n",
            "Done computing similarity matrix.\n",
            "Computing the msd similarity matrix...\n",
            "Done computing similarity matrix.\n",
            "Evaluating RMSE, MAE of algorithm KNNBasic on 5 split(s).\n",
            "\n",
            "                  Fold 1  Fold 2  Fold 3  Fold 4  Fold 5  Mean    Std     \n",
            "RMSE (testset)    0.9659  0.9601  0.9615  0.9610  0.9607  0.9618  0.0021  \n",
            "MAE (testset)     0.7473  0.7430  0.7437  0.7439  0.7414  0.7439  0.0019  \n",
            "Fit time          4.20    4.10    4.44    4.07    4.46    4.25    0.17    \n",
            "Test time         6.68    6.83    6.84    6.92    6.86    6.82    0.08    \n",
            "Computing the msd similarity matrix...\n",
            "Done computing similarity matrix.\n",
            "Computing the msd similarity matrix...\n",
            "Done computing similarity matrix.\n",
            "Computing the msd similarity matrix...\n",
            "Done computing similarity matrix.\n",
            "Computing the msd similarity matrix...\n",
            "Done computing similarity matrix.\n",
            "Computing the msd similarity matrix...\n",
            "Done computing similarity matrix.\n",
            "Evaluating RMSE, MAE of algorithm KNNBasic on 5 split(s).\n",
            "\n",
            "                  Fold 1  Fold 2  Fold 3  Fold 4  Fold 5  Mean    Std     \n",
            "RMSE (testset)    0.9620  0.9505  0.9618  0.9646  0.9586  0.9595  0.0049  \n",
            "MAE (testset)     0.7416  0.7360  0.7437  0.7473  0.7404  0.7418  0.0037  \n",
            "Fit time          3.95    4.40    4.03    4.32    4.04    4.15    0.18    \n",
            "Test time         6.98    6.73    7.08    7.10    6.88    6.96    0.14    \n",
            "Computing the msd similarity matrix...\n",
            "Done computing similarity matrix.\n",
            "Computing the msd similarity matrix...\n",
            "Done computing similarity matrix.\n",
            "Computing the msd similarity matrix...\n",
            "Done computing similarity matrix.\n",
            "Computing the msd similarity matrix...\n",
            "Done computing similarity matrix.\n",
            "Computing the msd similarity matrix...\n",
            "Done computing similarity matrix.\n",
            "Evaluating RMSE, MAE of algorithm KNNBasic on 5 split(s).\n",
            "\n",
            "                  Fold 1  Fold 2  Fold 3  Fold 4  Fold 5  Mean    Std     \n",
            "RMSE (testset)    0.9592  0.9588  0.9533  0.9560  0.9556  0.9566  0.0022  \n",
            "MAE (testset)     0.7416  0.7399  0.7382  0.7394  0.7430  0.7404  0.0017  \n",
            "Fit time          4.30    4.00    4.44    3.99    4.13    4.17    0.18    \n",
            "Test time         7.04    7.04    6.77    6.82    6.80    6.89    0.12    \n",
            "Computing the msd similarity matrix...\n",
            "Done computing similarity matrix.\n",
            "Computing the msd similarity matrix...\n",
            "Done computing similarity matrix.\n",
            "Computing the msd similarity matrix...\n",
            "Done computing similarity matrix.\n",
            "Computing the msd similarity matrix...\n",
            "Done computing similarity matrix.\n",
            "Computing the msd similarity matrix...\n",
            "Done computing similarity matrix.\n",
            "Evaluating RMSE, MAE of algorithm KNNBasic on 5 split(s).\n",
            "\n",
            "                  Fold 1  Fold 2  Fold 3  Fold 4  Fold 5  Mean    Std     \n",
            "RMSE (testset)    0.9532  0.9531  0.9564  0.9597  0.9470  0.9539  0.0042  \n",
            "MAE (testset)     0.7394  0.7364  0.7395  0.7399  0.7325  0.7375  0.0028  \n",
            "Fit time          4.17    3.96    4.17    4.02    4.36    4.14    0.14    \n",
            "Test time         7.09    6.99    7.15    7.01    6.90    7.03    0.09    \n",
            "Computing the msd similarity matrix...\n",
            "Done computing similarity matrix.\n",
            "Computing the msd similarity matrix...\n",
            "Done computing similarity matrix.\n",
            "Computing the msd similarity matrix...\n",
            "Done computing similarity matrix.\n",
            "Computing the msd similarity matrix...\n",
            "Done computing similarity matrix.\n",
            "Computing the msd similarity matrix...\n",
            "Done computing similarity matrix.\n",
            "Evaluating RMSE, MAE of algorithm KNNBasic on 5 split(s).\n",
            "\n",
            "                  Fold 1  Fold 2  Fold 3  Fold 4  Fold 5  Mean    Std     \n",
            "RMSE (testset)    0.9578  0.9560  0.9524  0.9471  0.9541  0.9535  0.0036  \n",
            "MAE (testset)     0.7375  0.7409  0.7360  0.7343  0.7377  0.7373  0.0022  \n",
            "Fit time          4.11    3.87    5.94    5.25    4.43    4.72    0.77    \n",
            "Test time         6.96    7.15    7.44    7.05    7.08    7.14    0.16    \n",
            "Computing the msd similarity matrix...\n",
            "Done computing similarity matrix.\n",
            "Computing the msd similarity matrix...\n",
            "Done computing similarity matrix.\n",
            "Computing the msd similarity matrix...\n",
            "Done computing similarity matrix.\n",
            "Computing the msd similarity matrix...\n",
            "Done computing similarity matrix.\n",
            "Computing the msd similarity matrix...\n",
            "Done computing similarity matrix.\n",
            "Evaluating RMSE, MAE of algorithm KNNBasic on 5 split(s).\n",
            "\n",
            "                  Fold 1  Fold 2  Fold 3  Fold 4  Fold 5  Mean    Std     \n",
            "RMSE (testset)    0.9538  0.9495  0.9400  0.9560  0.9546  0.9508  0.0058  \n",
            "MAE (testset)     0.7367  0.7316  0.7285  0.7379  0.7360  0.7341  0.0035  \n",
            "Fit time          4.25    4.01    4.23    3.98    4.34    4.16    0.14    \n",
            "Test time         6.89    7.22    7.35    6.98    7.52    7.19    0.23    \n",
            "Computing the msd similarity matrix...\n",
            "Done computing similarity matrix.\n",
            "Computing the msd similarity matrix...\n",
            "Done computing similarity matrix.\n",
            "Computing the msd similarity matrix...\n",
            "Done computing similarity matrix.\n",
            "Computing the msd similarity matrix...\n",
            "Done computing similarity matrix.\n",
            "Computing the msd similarity matrix...\n",
            "Done computing similarity matrix.\n",
            "Evaluating RMSE, MAE of algorithm KNNBasic on 5 split(s).\n",
            "\n",
            "                  Fold 1  Fold 2  Fold 3  Fold 4  Fold 5  Mean    Std     \n",
            "RMSE (testset)    0.9504  0.9462  0.9428  0.9500  0.9537  0.9486  0.0037  \n",
            "MAE (testset)     0.7330  0.7322  0.7281  0.7344  0.7393  0.7334  0.0036  \n",
            "Fit time          4.28    4.04    4.29    4.11    4.17    4.18    0.10    \n",
            "Test time         6.97    7.04    7.35    7.04    7.42    7.16    0.19    \n",
            "19 0.9486299748473458\n"
          ]
        }
      ]
    },
    {
      "cell_type": "code",
      "metadata": {
        "colab": {
          "base_uri": "https://localhost:8080/",
          "height": 295
        },
        "id": "F6I9qBgz3_Uz",
        "outputId": "2f5866ba-cd62-4298-873a-69353e17064d"
      },
      "source": [
        "plt.plot(ucf_k_results)\n",
        "plt.plot(icf_k_results, color='r')\n",
        "plt.xlabel(\"K-Values\")\n",
        "plt.ylabel(\"RMSE\")\n",
        "plt.title(\"RMSE for increasing values of K for User and Item based CF\")\n",
        "plt.show()\n"
      ],
      "execution_count": 72,
      "outputs": [
        {
          "output_type": "display_data",
          "data": {
            "image/png": "[encoded data removed]",
            "text/plain": [
              "<Figure size 432x288 with 1 Axes>"
            ]
          },
          "metadata": {
            "needs_background": "light"
          }
        }
      ]
    }
  ]
}