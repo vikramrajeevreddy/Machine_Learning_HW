{
  "nbformat": 4,
  "nbformat_minor": 0,
  "metadata": {
    "colab": {
      "name": "HW4.ipynb",
      "provenance": [],
      "toc_visible": true,
      "authorship_tag": "ABX9TyOSrvxlGBYxEVPukcaCH4eu",
      "include_colab_link": true
    },
    "kernelspec": {
      "name": "python3",
      "display_name": "Python 3"
    },
    "language_info": {
      "name": "python"
    }
  },
  "cells": [
    {
      "cell_type": "markdown",
      "metadata": {
        "id": "view-in-github",
        "colab_type": "text"
      },
      "source": [
        "<a href=\"https://colab.research.google.com/github/vikramrajeevreddy/Machine_Learning_HW/blob/main/HW4.ipynb\" target=\"_parent\"><img src=\"https://colab.research.google.com/assets/colab-badge.svg\" alt=\"Open In Colab\"/></a>"
      ]
    },
    {
      "cell_type": "code",
      "metadata": {
        "id": "p0I9cyeVqLND"
      },
      "source": [
        "import pandas as pd\n",
        "import matplotlib.pyplot as plt\n",
        "from scipy.spatial import distance\n",
        "from sklearn.preprocessing import StandardScaler\n",
        "import time\n",
        "import math\n",
        "from sklearn.cluster import KMeans\n",
        "from collections import defaultdict\n",
        "import numpy as np\n",
        "from collections import defaultdict\n",
        "\n",
        "from numpy import dot\n",
        "from numpy.linalg import norm"
      ],
      "execution_count": 24,
      "outputs": []
    },
    {
      "cell_type": "code",
      "metadata": {
        "id": "tNMh3EtFrDDE"
      },
      "source": [
        "def manhattan_distance(point1, point2):\n",
        "    distance = 0\n",
        "    for a,b in zip(point1, point2):\n",
        "        distance += abs(a-b)\n",
        "    return distance"
      ],
      "execution_count": 25,
      "outputs": []
    },
    {
      "cell_type": "code",
      "metadata": {
        "id": "o-QQ1bWZrcea"
      },
      "source": [
        "data = [\n",
        "    [3, 5],\n",
        "    [3, 4],\n",
        "    [2, 8],\n",
        "    [2, 3],\n",
        "    [6, 2],\n",
        "    [6, 4],\n",
        "    [7, 3],\n",
        "    [7, 4],\n",
        "    [8, 5],\n",
        "    [7, 6]\n",
        "]"
      ],
      "execution_count": 4,
      "outputs": []
    },
    {
      "cell_type": "code",
      "metadata": {
        "colab": {
          "base_uri": "https://localhost:8080/"
        },
        "id": "j1zsZVfoqJvl",
        "outputId": "71fa1ada-0a0d-4724-9044-dd22e715d248"
      },
      "source": [
        "kmeans = KMeans(n_clusters=2)\n",
        "kmeans.fit(data)"
      ],
      "execution_count": 5,
      "outputs": [
        {
          "output_type": "execute_result",
          "data": {
            "text/plain": [
              "KMeans(algorithm='auto', copy_x=True, init='k-means++', max_iter=300,\n",
              "       n_clusters=2, n_init=10, n_jobs=None, precompute_distances='auto',\n",
              "       random_state=None, tol=0.0001, verbose=0)"
            ]
          },
          "metadata": {},
          "execution_count": 5
        }
      ]
    },
    {
      "cell_type": "code",
      "metadata": {
        "colab": {
          "base_uri": "https://localhost:8080/"
        },
        "id": "u0U20Z9Qr8XP",
        "outputId": "0606d5c3-4c74-4fc0-eee3-b41e8b89a24c"
      },
      "source": [
        "kmeans.cluster_centers_"
      ],
      "execution_count": 6,
      "outputs": [
        {
          "output_type": "execute_result",
          "data": {
            "text/plain": [
              "array([[6.83333333, 4.        ],\n",
              "       [2.5       , 5.        ]])"
            ]
          },
          "metadata": {},
          "execution_count": 6
        }
      ]
    },
    {
      "cell_type": "code",
      "metadata": {
        "id": "yO3qJkkxhfJZ"
      },
      "source": [
        "def euclidean_distance(point1, point2):\n",
        "    distance = 0\n",
        "    for a,b in zip(point1, point2):\n",
        "        distance += pow((a-b), 2)\n",
        "    return math.sqrt(distance)"
      ],
      "execution_count": 26,
      "outputs": []
    },
    {
      "cell_type": "code",
      "metadata": {
        "colab": {
          "base_uri": "https://localhost:8080/",
          "height": 268
        },
        "id": "8SJGX5MLsd9a",
        "outputId": "dcb80db6-2456-4dae-e9c1-21a9e426168b"
      },
      "source": [
        "plt.scatter(X[ : , 0], X[ : , 1], s =50, c='b')\n",
        "plt.scatter(6.83333333, 4.        , s=200, c='g', marker='s')\n",
        "plt.scatter(2.5      , 5.        , s=200, c='r', marker='s')\n",
        "plt.show()"
      ],
      "execution_count": null,
      "outputs": [
        {
          "output_type": "display_data",
          "data": {
            "image/png": "[encoded data removed]",
            "text/plain": [
              "<Figure size 432x288 with 1 Axes>"
            ]
          },
          "metadata": {}
        }
      ]
    },
    {
      "cell_type": "code",
      "metadata": {
        "id": "pnBiMKfh5wzi",
        "colab": {
          "base_uri": "https://localhost:8080/"
        },
        "outputId": "e0e102e2-301e-463e-c5a7-8acdc3652c3a"
      },
      "source": [
        "red_data_points = [(4.7, 3.2), (4.9, 3.1), (5.0, 3.0), (4.6, 2.9)]\n",
        "blue_data_points = [(5.9, 3.2), (6.7, 3.1), (6.0, 3.0), (6.2, 2.8)]\n",
        "\n",
        "distances = []\n",
        "current_distance = 0\n",
        "for red_point in red_data_points:\n",
        "    for blue_point in blue_data_points:\n",
        "        distances.append([euclidean_distance(red_point, blue_point), [red_point, blue_point]])\n",
        "        current_distance += distances[-1][0]\n",
        "\n",
        "distances.sort()\n",
        "\n",
        "print(\"Q1: Distance between closest points is {} between points {} and {}\".format(distances[0][0], distances[0][1][0], distances[0][1][1]))\n",
        "print(\"Q2: Distance between farthest points is {} between points {} and {}\".format(distances[-1][0], distances[-1][1][0], distances[-1][1][1]))\n",
        "print(\"Q3: Average of all distances is {}\".format(current_distance/len(distances)))"
      ],
      "execution_count": 27,
      "outputs": [
        {
          "output_type": "stream",
          "name": "stdout",
          "text": [
            "Q1: Distance between closest points is 0.9219544457292891 between points (5.0, 3.0) and (5.9, 3.2)\n",
            "Q2: Distance between farthest points is 2.109502310972899 between points (4.6, 2.9) and (6.7, 3.1)\n",
            "Q3: Average of all distances is 1.4128564854895742\n"
          ]
        }
      ]
    },
    {
      "cell_type": "code",
      "metadata": {
        "id": "PECf3FF3ejB1"
      },
      "source": [
        "def euclidean_distance(point1, point2):\n",
        "    distance = 0\n",
        "    for a,b in zip(point1, point2):\n",
        "        distance += pow((a-b), 2)\n",
        "    return math.sqrt(distance)"
      ],
      "execution_count": 28,
      "outputs": []
    },
    {
      "cell_type": "code",
      "metadata": {
        "id": "gXJkCiDsstGp"
      },
      "source": [
        "def cosine_similarity(point1, point2):\n",
        "  A = np.array(point1)\n",
        "  B = np.array(point2)\n",
        "  dist = 1 - np.dot(A,B)/(np.linalg.norm(A)*np.linalg.norm(B))\n",
        "  return dist"
      ],
      "execution_count": 29,
      "outputs": []
    },
    {
      "cell_type": "code",
      "metadata": {
        "id": "yBQoAauBsxFJ"
      },
      "source": [
        "def jaccard(A, B):\n",
        "    return 1 - (np.sum(np.minimum(A,B), axis = 0)/np.sum(np.maximum(A, B), axis = 0)) "
      ],
      "execution_count": 30,
      "outputs": []
    },
    {
      "cell_type": "code",
      "metadata": {
        "id": "TU_WR0bfv_YK"
      },
      "source": [
        "def stringsToNumbers(myList):\n",
        "    for i in range(len(myList)):\n",
        "        if (isValidNumberString(myList[i])):\n",
        "            myList[i] = float(myList[i])\n",
        "def isValidNumberString(s):\n",
        "  if len(s) == 0:\n",
        "    return False\n",
        "  if  len(s) > 1 and s[0] == \"-\":\n",
        "      s = s[1:]\n",
        "  for c in s:\n",
        "    if c not in \"0123456789.\":\n",
        "      return False\n",
        "  return True\n",
        "def lineToTuple(line):\n",
        "    # remove leading/trailing witespace and newlines\n",
        "    cleanLine = line.strip()\n",
        "    # get rid of quotes\n",
        "    cleanLine = cleanLine.replace('\"', '')\n",
        "    # separate the fields\n",
        "    lineList = cleanLine.split(\",\")\n",
        "    # convert strings into numbers\n",
        "    stringsToNumbers(lineList)\n",
        "    lineTuple = tuple(lineList)\n",
        "    return lineTuple"
      ],
      "execution_count": 31,
      "outputs": []
    },
    {
      "cell_type": "code",
      "metadata": {
        "id": "j9E9x0KteaGU"
      },
      "source": [
        "class KMeans:\n",
        "  def __init__(self, n_clusters=3, max_iters=300, init_centroids=None, d_func=euclidean_distance, show_sse=False, show_first_centroid=False, centroid_stop=True):\n",
        "    self.n_clusters = n_clusters\n",
        "    self.max_iters = max_iters\n",
        "    self.init_centroids = init_centroids\n",
        "    self.d_func = d_func\n",
        "    self.sse_list = []\n",
        "    self.show_first_centroid = show_first_centroid\n",
        "    self.show_sse = show_sse\n",
        "    self.centroid_stop = centroid_stop\n",
        "\n",
        "  def fit(self, data):\n",
        "    start = time.time()\n",
        "    if self.init_centroids is None:\n",
        "      # Assign random points of data as centroids of size k (n_clusters)\n",
        "      random_choice = np.random.choice(range(len(data)), self.n_clusters, replace=False)\n",
        "      centroids = []\n",
        "\n",
        "      for choice in random_choice:\n",
        "        if isinstance(data[choice][-1], str):\n",
        "          centroids.append(data[choice][:-1])\n",
        "        else:\n",
        "          centroids.append(data[choice])\n",
        "      \n",
        "      self.init_centroids = centroids\n",
        "    \n",
        "    for loop in range(self.max_iters): \n",
        "      clusters = defaultdict(list)\n",
        "      sse = 0\n",
        "      # Now, assign each point to nearest centroid cluster\n",
        "\n",
        "      for point in data:\n",
        "        temp_centroid = -1\n",
        "        min_dist = 99999999\n",
        "        for i, centroid in enumerate(self.init_centroids):\n",
        "          if isinstance(point[-1], str):\n",
        "            d = self.d_func(point[:-1], centroid)\n",
        "          else:\n",
        "            d = self.d_func(point, centroid)\n",
        "          if d < min_dist:\n",
        "            temp_centroid = i\n",
        "            min_dist = d\n",
        "        \n",
        "        clusters[temp_centroid].append(point)\n",
        "\n",
        "      prev_centroids = self.init_centroids.copy()\n",
        "      # Now, recalculating the centroids\n",
        "      for key in clusters.keys():\n",
        "        cluster = clusters[key]\n",
        "        self.init_centroids[key] = calculate_centroid(cluster)\n",
        "\n",
        "      if loop == 1 and self.show_first_centroid == True:\n",
        "        print(\"Centroids after first iteration: \", self.init_centroids)\n",
        "\n",
        "      if self.centroid_stop == True and self.init_centroids == prev_centroids:\n",
        "        break\n",
        "\n",
        "      # Now, calculate SSE\n",
        "      for key in clusters.keys():\n",
        "        cluster = clusters[key]\n",
        "        ce = self.init_centroids[key]\n",
        "\n",
        "        for p in cluster:\n",
        "          sse += euclidean_distance(ce, p)\n",
        "\n",
        "      if self.show_sse == True and loop > 1 and self.sse_list[-1] <= sse:\n",
        "        self.sse_list.pop()\n",
        "        break\n",
        "\n",
        "      self.sse_list.append(sse)\n",
        "\n",
        "    print(\"Time taken:\", time.time() - start)\n",
        "    print(\"Number of iterations:\", loop)\n",
        "    return [self.init_centroids, clusters]"
      ],
      "execution_count": 32,
      "outputs": []
    },
    {
      "cell_type": "code",
      "metadata": {
        "id": "A6kGltWPc8JE"
      },
      "source": [
        "raw_data = loadCSV('data.csv')"
      ],
      "execution_count": 34,
      "outputs": []
    },
    {
      "cell_type": "code",
      "metadata": {
        "id": "mvXZvGo8e8vu"
      },
      "source": [
        "def loadCSV(fileName):\n",
        "    fileHandler = open(fileName, \"rt\")\n",
        "    lines = fileHandler.readlines()\n",
        "    fileHandler.close()\n",
        "    dataset = []\n",
        "    for line in lines:\n",
        "        instance = lineToTuple(line)\n",
        "        dataset.append(instance)\n",
        "    return dataset"
      ],
      "execution_count": 33,
      "outputs": []
    },
    {
      "cell_type": "code",
      "metadata": {
        "id": "St9sp7x7fl4G"
      },
      "source": [
        "def calculate_centroid(cluster):\n",
        "  n = len(cluster[0])\n",
        "  if isinstance(cluster[0][-1], str):\n",
        "    centroid = [0]*(n-1)\n",
        "\n",
        "    for i in range(n-1):\n",
        "      for point in cluster:\n",
        "        centroid[i] += point[i]\n",
        "      centroid[i] = centroid[i]/len(cluster)\n",
        "  else:\n",
        "    centroid = [0]*n\n",
        "\n",
        "    for i in range(n):\n",
        "      for point in cluster:\n",
        "        centroid[i] += point[i]\n",
        "      centroid[i] = centroid[i]/len(cluster)\n",
        "\n",
        "  \n",
        "  return centroid"
      ],
      "execution_count": 35,
      "outputs": []
    },
    {
      "cell_type": "code",
      "metadata": {
        "id": "T2o2pBqqgYwq"
      },
      "source": [
        "def label_cluster(cluster):\n",
        "  cl = defaultdict(int)\n",
        "  for point in cluster:\n",
        "    cl[point[-1]] += 1\n",
        "  return cl"
      ],
      "execution_count": 36,
      "outputs": []
    },
    {
      "cell_type": "code",
      "metadata": {
        "id": "GFe2CVv0gMrE"
      },
      "source": [
        "original_labels = dict(label_cluster(raw_data))"
      ],
      "execution_count": 37,
      "outputs": []
    },
    {
      "cell_type": "code",
      "metadata": {
        "colab": {
          "base_uri": "https://localhost:8080/"
        },
        "id": "prumvXuVghjo",
        "outputId": "e9394289-7d29-4f7b-e57c-e6bb2d19e939"
      },
      "source": [
        "kmeans = KMeans(d_func=euclidean_distance,n_clusters=5)\n",
        "[centroid_centers, clusters] = kmeans.fit(raw_data)\n",
        "\n",
        "labels = {}\n",
        "\n",
        "for i in range(10):\n",
        "  labels[float(i)] = 0\n",
        "\n",
        "for key in clusters:\n",
        "  d = dict(label_cluster(clusters[key]))\n",
        "  mx = 0\n",
        "  s = 0\n",
        "  label = \"\"\n",
        "  for k in d:\n",
        "    s += d[k]\n",
        "    if d[k] > mx:\n",
        "      mx = d[k]\n",
        "      label = k\n",
        "  labels[label] = mx\n",
        "\n",
        "\n",
        "print(\"SSE =\",kmeans.sse_list)\n",
        "print(\"Original Labels: \", original_labels)\n",
        "print(\"Predicted Labels: \", labels)\n",
        "\n",
        "total = 0\n",
        "mismatch = 0\n",
        "\n",
        "for l in original_labels:\n",
        "  total += original_labels[l]\n",
        "  mismatch += abs(original_labels[l] - labels[l])\n",
        "\n",
        "accuracy = (total - mismatch) / total\n",
        "\n",
        "print(\"Accuracy =\",accuracy*100)"
      ],
      "execution_count": 51,
      "outputs": [
        {
          "output_type": "stream",
          "name": "stdout",
          "text": [
            "Time taken: 234.0901153087616\n",
            "Number of iterations: 21\n",
            "SSE = [17506745.436864305, 17262174.965242956, 17074264.022219434, 16906889.801536106, 16751369.502986392, 16644136.392342426, 16594503.995645383, 16575491.7875031, 16565851.183925679, 16561213.561822284, 16558445.691918869, 16556773.446485404, 16556032.831436686, 16555537.187386788, 16555142.877563113, 16555021.401728457, 16554924.052405765, 16554752.146906376, 16554693.77151413, 16554693.48862377, 16554654.356040971]\n",
            "Original Labels:  {7.0: 1028, 2.0: 1032, 1.0: 1135, 0.0: 980, 4.0: 982, 9.0: 1009, 5.0: 892, 6.0: 958, 3.0: 1010, 8.0: 974}\n",
            "Predicted Labels:  {0.0: 849, 1.0: 1126, 2.0: 0, 3.0: 865, 4.0: 0, 5.0: 0, 6.0: 801, 7.0: 0, 8.0: 0, 9.0: 882}\n",
            "Accuracy = 45.23\n"
          ]
        }
      ]
    },
    {
      "cell_type": "code",
      "metadata": {
        "colab": {
          "base_uri": "https://localhost:8080/"
        },
        "id": "mw_1PxSwsexC",
        "outputId": "ef02f2bd-0d31-4776-d8d5-b9e1393a07f3"
      },
      "source": [
        "kmeans = KMeans(d_func=cosine_similarity,n_clusters=5)\n",
        "[centroid_centers, clusters] = kmeans.fit(raw_data)\n",
        "\n",
        "labels = {}\n",
        "\n",
        "for i in range(10):\n",
        "  labels[float(i)] = 0\n",
        "\n",
        "for key in clusters:\n",
        "  d = dict(label_cluster(clusters[key]))\n",
        "  mx = 0\n",
        "  s = 0\n",
        "  label = \"\"\n",
        "  for k in d:\n",
        "    s += d[k]\n",
        "    if d[k] > mx:\n",
        "      mx = d[k]\n",
        "      label = k\n",
        "  labels[label] = mx\n",
        "\n",
        "\n",
        "print(\"SSE =\",kmeans.sse_list)\n",
        "print(\"Original Labels: \", original_labels)\n",
        "print(\"Predicted Labels: \", labels)\n",
        "\n",
        "total = 0\n",
        "mismatch = 0\n",
        "\n",
        "for l in original_labels:\n",
        "  total += original_labels[l]\n",
        "  mismatch += abs(original_labels[l] - labels[l])\n",
        "\n",
        "accuracy = (total - mismatch) / total\n",
        "\n",
        "print(\"Accuracy =\",accuracy*100)"
      ],
      "execution_count": 49,
      "outputs": [
        {
          "output_type": "stream",
          "name": "stdout",
          "text": [
            "Time taken: 303.2703495025635\n",
            "Number of iterations: 36\n",
            "SSE = [17345984.24874821, 17027535.957346193, 16916206.349344987, 16847535.338691328, 16800790.966650244, 16776098.13067269, 16752487.409775645, 16725318.619598875, 16690629.265972495, 16659131.960347608, 16632788.857738392, 16605611.187372338, 16590538.83873495, 16584442.620673075, 16581416.4668179, 16580063.302847933, 16579613.094280131, 16579478.446699435, 16579805.185784243, 16579619.899365643, 16579615.771106346, 16579285.5413393, 16579039.854590686, 16579204.420255573, 16579188.032147361, 16578780.558098746, 16578472.280045204, 16578392.861677488, 16578500.18631882, 16578730.159752524, 16578849.852708848, 16578919.082991375, 16578974.314015055, 16578912.437099133, 16579042.307578806, 16578944.567070687]\n",
            "Original Labels:  {7.0: 1028, 2.0: 1032, 1.0: 1135, 0.0: 980, 4.0: 982, 9.0: 1009, 5.0: 892, 6.0: 958, 3.0: 1010, 8.0: 974}\n",
            "Predicted Labels:  {0.0: 895, 1.0: 1117, 2.0: 0, 3.0: 914, 4.0: 0, 5.0: 0, 6.0: 828, 7.0: 0, 8.0: 0, 9.0: 881}\n",
            "Accuracy = 46.35\n"
          ]
        }
      ]
    },
    {
      "cell_type": "code",
      "metadata": {
        "colab": {
          "base_uri": "https://localhost:8080/"
        },
        "id": "-JvKdqah0XuB",
        "outputId": "7af55d67-712c-4761-f286-21c740e59328"
      },
      "source": [
        "kmeans = KMeans(d_func=jaccard,n_clusters=5)\n",
        "[centroid_centers, clusters] = kmeans.fit(raw_data)\n",
        "\n",
        "labels = {}\n",
        "\n",
        "for i in range(10):\n",
        "  labels[float(i)] = 0\n",
        "\n",
        "for key in clusters:\n",
        "  d = dict(label_cluster(clusters[key]))\n",
        "  mx = 0\n",
        "  s = 0\n",
        "  label = \"\"\n",
        "  for k in d:\n",
        "    s += d[k]\n",
        "    if d[k] > mx:\n",
        "      mx = d[k]\n",
        "      label = k\n",
        "  labels[label] = mx\n",
        "\n",
        "\n",
        "print(\"SSE =\",kmeans.sse_list)\n",
        "print(\"Original Labels: \", original_labels)\n",
        "print(\"Predicted Labels: \", labels)\n",
        "\n",
        "total = 0\n",
        "mismatch = 0\n",
        "\n",
        "for l in original_labels:\n",
        "  total += original_labels[l]\n",
        "  mismatch += abs(original_labels[l] - labels[l])\n",
        "\n",
        "accuracy = (total - mismatch) / total\n",
        "\n",
        "print(\"Accuracy =\",accuracy*100)"
      ],
      "execution_count": 50,
      "outputs": [
        {
          "output_type": "stream",
          "name": "stdout",
          "text": [
            "Time taken: 345.8383288383484\n",
            "Number of iterations: 30\n",
            "SSE = [17226159.33493876, 17041414.635203317, 16954619.889128372, 16833459.907592505, 16713173.926878525, 16654008.313662, 16626045.37285285, 16615450.927524537, 16607732.528508468, 16604456.601885682, 16600509.761210797, 16596348.376577271, 16594557.92522823, 16592742.081779016, 16591297.10832743, 16588793.904223979, 16587971.574938318, 16587041.21236794, 16585756.457853375, 16584756.046589032, 16584786.300018132, 16584170.224718694, 16583434.45594712, 16583060.740748549, 16582974.771440577, 16582937.903180398, 16582583.65208652, 16582519.005679972, 16582723.491040573, 16582808.677853413]\n",
            "Original Labels:  {7.0: 1028, 2.0: 1032, 1.0: 1135, 0.0: 980, 4.0: 982, 9.0: 1009, 5.0: 892, 6.0: 958, 3.0: 1010, 8.0: 974}\n",
            "Predicted Labels:  {0.0: 936, 1.0: 1108, 2.0: 0, 3.0: 919, 4.0: 0, 5.0: 0, 6.0: 775, 7.0: 885, 8.0: 0, 9.0: 0}\n",
            "Accuracy = 46.23\n"
          ]
        }
      ]
    },
    {
      "cell_type": "code",
      "metadata": {
        "colab": {
          "base_uri": "https://localhost:8080/"
        },
        "id": "lIVE52vC6Q0h",
        "outputId": "60117b1c-fe5c-4d5c-cb37-6ad0db746e7c"
      },
      "source": [
        "kmeans = KMeans(centroid_stop=True,show_sse=True,max_iters=501)\n",
        "[centroid_centers, clusters] = kmeans.fit(raw_data)\n",
        "print(kmeans.sse_list)"
      ],
      "execution_count": 112,
      "outputs": [
        {
          "output_type": "stream",
          "name": "stdout",
          "text": [
            "Time taken: 204.43094301223755\n",
            "Number of iterations: 26\n",
            "[17721210.728515826, 17479791.437127735, 17360500.214024268, 17304922.42515292, 17277127.827383798, 17265396.310464825, 17259112.94504351, 17253849.743497353, 17249848.31409398, 17246585.98665353, 17245016.410147745, 17243554.161447246, 17242477.398491204, 17241573.93924287, 17241037.049631543, 17240613.540559664, 17240337.89951129, 17240044.836454663, 17239856.340292197, 17239660.36202287, 17239537.328681704, 17239461.939170454, 17239407.95822504, 17239358.469305046, 17239296.438103855, 17239267.488343548]\n"
          ]
        }
      ]
    },
    {
      "cell_type": "code",
      "metadata": {
        "colab": {
          "base_uri": "https://localhost:8080/"
        },
        "id": "Woi-dCuC8F9B",
        "outputId": "503eb665-00c1-4357-c59c-3898535ba7ba"
      },
      "source": [
        "kmeans = KMeans(centroid_stop=True,show_sse=True,max_iters=501,d_func=cosine_similarity)\n",
        "[centroid_centers, clusters] = kmeans.fit(raw_data)\n",
        "print(kmeans.sse_list)"
      ],
      "execution_count": 113,
      "outputs": [
        {
          "output_type": "stream",
          "name": "stdout",
          "text": [
            "Time taken: 52.62435722351074\n",
            "Number of iterations: 8\n",
            "[17685074.478428356, 17436264.442477655, 17354851.273755252, 17316416.848664396, 17292784.401099138, 17279216.63731182, 17272919.335961696]\n"
          ]
        }
      ]
    },
    {
      "cell_type": "code",
      "metadata": {
        "colab": {
          "base_uri": "https://localhost:8080/"
        },
        "id": "NowLMIF98Xbp",
        "outputId": "2ca6e8b0-6703-4e76-f489-d57454869315"
      },
      "source": [
        "kmeans = KMeans(centroid_stop=True,show_sse=True,max_iters=501,d_func=jaccard)\n",
        "[centroid_centers, clusters] = kmeans.fit(raw_data)\n",
        "print(kmeans.sse_list)"
      ],
      "execution_count": 114,
      "outputs": [
        {
          "output_type": "stream",
          "name": "stdout",
          "text": [
            "Time taken: 173.9016978740692\n",
            "Number of iterations: 21\n",
            "[17828932.22192789, 17610232.88221706, 17484126.446981702, 17392376.927527104, 17325650.594040122, 17288791.678045716, 17270447.124571394, 17260295.47383955, 17254547.952441584, 17249661.665974997, 17245746.184838887, 17242316.875541426, 17238494.92852124, 17234758.574151326, 17231885.106899027, 17229265.730760023, 17227901.015294135, 17226990.35126179, 17226670.0309193, 17226554.73358698]\n"
          ]
        }
      ]
    },
    {
      "cell_type": "code",
      "metadata": {
        "colab": {
          "base_uri": "https://localhost:8080/"
        },
        "id": "maleNaKAbajN",
        "outputId": "482d44e5-9dbe-4e2e-a11b-e47d2c547607"
      },
      "source": [
        "kmeans = KMeans(centroid_stop=True)\n",
        "[centroid_centers, clusters] = kmeans.fit(raw_data)\n",
        "print(kmeans.sse_list)"
      ],
      "execution_count": 20,
      "outputs": [
        {
          "output_type": "stream",
          "name": "stdout",
          "text": [
            "Time taken: 93.22810816764832\n",
            "Number of iterations: 11\n",
            "[17560941.977719754, 17289602.96801829, 17248727.023307316, 17241663.123229053, 17240084.508844864, 17239437.384597138, 17239285.01345343, 17239031.148554895, 17238941.963576466, 17238888.8774044, 17238938.148621753]\n"
          ]
        }
      ]
    },
    {
      "cell_type": "code",
      "metadata": {
        "colab": {
          "base_uri": "https://localhost:8080/"
        },
        "id": "XwxS7we3cOtm",
        "outputId": "1e3f718b-1bfc-4ce5-c401-6cd3317f7efc"
      },
      "source": [
        "kmeans = KMeans(centroid_stop=True,d_func=cosine_similarity)\n",
        "[centroid_centers, clusters] = kmeans.fit(raw_data)\n",
        "print(kmeans.sse_list)"
      ],
      "execution_count": 23,
      "outputs": [
        {
          "output_type": "stream",
          "name": "stdout",
          "text": [
            "Time taken: 132.18549418449402\n",
            "Number of iterations: 20\n",
            "[17767016.839136012, 17615503.91917737, 17541841.742146205, 17464956.157789826, 17382500.179035395, 17331113.718015417, 17304545.532613046, 17294462.55681448, 17289414.16783334, 17285719.74368933, 17284735.925276786, 17283972.235463463, 17283330.97633717, 17283068.2990509, 17282866.696563978, 17282539.339762717, 17282332.54928156, 17282114.868547495, 17282231.334992915, 17282232.818809435]\n"
          ]
        }
      ]
    },
    {
      "cell_type": "code",
      "metadata": {
        "colab": {
          "base_uri": "https://localhost:8080/"
        },
        "id": "k12KZbowcZrM",
        "outputId": "50c4d7ed-efa8-4b9c-ac6a-df5fc4a9420b"
      },
      "source": [
        "kmeans = KMeans(centroid_stop=True,d_func=jaccard)\n",
        "[centroid_centers, clusters] = kmeans.fit(raw_data)\n",
        "print(kmeans.sse_list)"
      ],
      "execution_count": 22,
      "outputs": [
        {
          "output_type": "stream",
          "name": "stdout",
          "text": [
            "Time taken: 210.30316615104675\n",
            "Number of iterations: 25\n",
            "[17855694.295734636, 17531173.22434868, 17380722.683575623, 17302239.55476812, 17271441.480056208, 17258017.627916798, 17249822.79960088, 17244384.363355394, 17240115.855033465, 17235891.620741535, 17232583.32207052, 17230193.06930943, 17228419.040385514, 17227385.931556728, 17226934.114456795, 17226570.564058565, 17226322.06906246, 17226325.296421558, 17226339.309781637, 17226530.636024907, 17226484.176343523, 17226390.635563128, 17226315.772921536, 17226330.94609749, 17226348.481849335]\n"
          ]
        }
      ]
    },
    {
      "cell_type": "code",
      "metadata": {
        "colab": {
          "base_uri": "https://localhost:8080/"
        },
        "id": "0pQQ40L_pYAZ",
        "outputId": "29420512-3d7d-4a7b-d037-b1369a69a7ad"
      },
      "source": [
        "kmeans = KMeans(centroid_stop=False,max_iters=101)\n",
        "[centroid_centers, clusters] = kmeans.fit(raw_data)\n",
        "print(kmeans.sse_list)"
      ],
      "execution_count": 39,
      "outputs": [
        {
          "output_type": "stream",
          "name": "stdout",
          "text": [
            "Time taken: 777.8618021011353\n",
            "Number of iterations: 100\n",
            "[17641370.455040425, 17389182.432408452, 17321313.23064756, 17284788.545742378, 17266306.573259804, 17256390.96832387, 17250576.03687106, 17246786.469990563, 17243986.087875023, 17242464.42533378, 17241362.9338883, 17240618.313100286, 17240252.32995103, 17240001.643740855, 17239804.42504158, 17239696.308787446, 17239563.31530902, 17239487.354880046, 17239406.594708193, 17239285.152535643, 17239214.05451505, 17239169.250602305, 17239116.611387707, 17239116.611387707, 17239116.611387707, 17239116.611387707, 17239116.611387707, 17239116.611387707, 17239116.611387707, 17239116.611387707, 17239116.611387707, 17239116.611387707, 17239116.611387707, 17239116.611387707, 17239116.611387707, 17239116.611387707, 17239116.611387707, 17239116.611387707, 17239116.611387707, 17239116.611387707, 17239116.611387707, 17239116.611387707, 17239116.611387707, 17239116.611387707, 17239116.611387707, 17239116.611387707, 17239116.611387707, 17239116.611387707, 17239116.611387707, 17239116.611387707, 17239116.611387707, 17239116.611387707, 17239116.611387707, 17239116.611387707, 17239116.611387707, 17239116.611387707, 17239116.611387707, 17239116.611387707, 17239116.611387707, 17239116.611387707, 17239116.611387707, 17239116.611387707, 17239116.611387707, 17239116.611387707, 17239116.611387707, 17239116.611387707, 17239116.611387707, 17239116.611387707, 17239116.611387707, 17239116.611387707, 17239116.611387707, 17239116.611387707, 17239116.611387707, 17239116.611387707, 17239116.611387707, 17239116.611387707, 17239116.611387707, 17239116.611387707, 17239116.611387707, 17239116.611387707, 17239116.611387707, 17239116.611387707, 17239116.611387707, 17239116.611387707, 17239116.611387707, 17239116.611387707, 17239116.611387707, 17239116.611387707, 17239116.611387707, 17239116.611387707, 17239116.611387707, 17239116.611387707, 17239116.611387707, 17239116.611387707, 17239116.611387707, 17239116.611387707, 17239116.611387707, 17239116.611387707, 17239116.611387707, 17239116.611387707, 17239116.611387707]\n"
          ]
        }
      ]
    },
    {
      "cell_type": "code",
      "metadata": {
        "colab": {
          "base_uri": "https://localhost:8080/"
        },
        "id": "X6VQ5j5fpbhB",
        "outputId": "7e698335-f2c3-4ea6-ebe6-edf9a75a0f4b"
      },
      "source": [
        "kmeans = KMeans(centroid_stop=False,max_iters=101, d_func=cosine_similarity)\n",
        "[centroid_centers, clusters] = kmeans.fit(raw_data)\n",
        "print(kmeans.sse_list)"
      ],
      "execution_count": 40,
      "outputs": [
        {
          "output_type": "stream",
          "name": "stdout",
          "text": [
            "Time taken: 639.2743878364563\n",
            "Number of iterations: 100\n",
            "[17639338.17977323, 17506208.950211946, 17438246.429532934, 17396291.64834485, 17376823.61490656, 17365516.52462561, 17356358.12596099, 17347868.10079925, 17337854.94023605, 17328348.044990603, 17316515.14965268, 17303988.21080476, 17292521.644906532, 17282757.25794488, 17275812.436098218, 17273067.269981273, 17274529.833272096, 17275152.04471835, 17275774.151323427, 17276784.331979465, 17276846.504617494, 17277294.96234692, 17277381.130470958, 17277567.876711585, 17278320.10301951, 17278654.07215067, 17278707.83649828, 17279457.43899651, 17279544.945797164, 17279573.06435754, 17279614.659648303, 17279614.659648303, 17279614.659648303, 17279614.659648303, 17279614.659648303, 17279614.659648303, 17279614.659648303, 17279614.659648303, 17279614.659648303, 17279614.659648303, 17279614.659648303, 17279614.659648303, 17279614.659648303, 17279614.659648303, 17279614.659648303, 17279614.659648303, 17279614.659648303, 17279614.659648303, 17279614.659648303, 17279614.659648303, 17279614.659648303, 17279614.659648303, 17279614.659648303, 17279614.659648303, 17279614.659648303, 17279614.659648303, 17279614.659648303, 17279614.659648303, 17279614.659648303, 17279614.659648303, 17279614.659648303, 17279614.659648303, 17279614.659648303, 17279614.659648303, 17279614.659648303, 17279614.659648303, 17279614.659648303, 17279614.659648303, 17279614.659648303, 17279614.659648303, 17279614.659648303, 17279614.659648303, 17279614.659648303, 17279614.659648303, 17279614.659648303, 17279614.659648303, 17279614.659648303, 17279614.659648303, 17279614.659648303, 17279614.659648303, 17279614.659648303, 17279614.659648303, 17279614.659648303, 17279614.659648303, 17279614.659648303, 17279614.659648303, 17279614.659648303, 17279614.659648303, 17279614.659648303, 17279614.659648303, 17279614.659648303, 17279614.659648303, 17279614.659648303, 17279614.659648303, 17279614.659648303, 17279614.659648303, 17279614.659648303, 17279614.659648303, 17279614.659648303, 17279614.659648303, 17279614.659648303]\n"
          ]
        }
      ]
    },
    {
      "cell_type": "code",
      "metadata": {
        "colab": {
          "base_uri": "https://localhost:8080/",
          "height": 337
        },
        "id": "DZspdbvypcMf",
        "outputId": "686fab17-c4d1-481a-ad5f-d8b77a380159"
      },
      "source": [
        "kmeans = KMeans(centroid_stop=False, max_iters=101,d_func=jaccard)\n",
        "[centroid_centers, clusters] = kmeans.fit(raw_data)\n",
        "print(kmeans.sse_list)"
      ],
      "execution_count": 46,
      "outputs": [
        {
          "output_type": "error",
          "ename": "KeyboardInterrupt",
          "evalue": "ignored",
          "traceback": [
            "\u001b[0;31m---------------------------------------------------------------------------\u001b[0m",
            "\u001b[0;31mKeyboardInterrupt\u001b[0m                         Traceback (most recent call last)",
            "\u001b[0;32m<ipython-input-46-ae504877deef>\u001b[0m in \u001b[0;36m<module>\u001b[0;34m()\u001b[0m\n\u001b[1;32m      1\u001b[0m \u001b[0mkmeans\u001b[0m \u001b[0;34m=\u001b[0m \u001b[0mKMeans\u001b[0m\u001b[0;34m(\u001b[0m\u001b[0mcentroid_stop\u001b[0m\u001b[0;34m=\u001b[0m\u001b[0;32mFalse\u001b[0m\u001b[0;34m,\u001b[0m \u001b[0mmax_iters\u001b[0m\u001b[0;34m=\u001b[0m\u001b[0;36m101\u001b[0m\u001b[0;34m,\u001b[0m\u001b[0md_func\u001b[0m\u001b[0;34m=\u001b[0m\u001b[0mjaccard\u001b[0m\u001b[0;34m)\u001b[0m\u001b[0;34m\u001b[0m\u001b[0;34m\u001b[0m\u001b[0m\n\u001b[0;32m----> 2\u001b[0;31m \u001b[0;34m[\u001b[0m\u001b[0mcentroid_centers\u001b[0m\u001b[0;34m,\u001b[0m \u001b[0mclusters\u001b[0m\u001b[0;34m]\u001b[0m \u001b[0;34m=\u001b[0m \u001b[0mkmeans\u001b[0m\u001b[0;34m.\u001b[0m\u001b[0mfit\u001b[0m\u001b[0;34m(\u001b[0m\u001b[0mraw_data\u001b[0m\u001b[0;34m)\u001b[0m\u001b[0;34m\u001b[0m\u001b[0;34m\u001b[0m\u001b[0m\n\u001b[0m\u001b[1;32m      3\u001b[0m \u001b[0mprint\u001b[0m\u001b[0;34m(\u001b[0m\u001b[0mkmeans\u001b[0m\u001b[0;34m.\u001b[0m\u001b[0msse_list\u001b[0m\u001b[0;34m)\u001b[0m\u001b[0;34m\u001b[0m\u001b[0;34m\u001b[0m\u001b[0m\n",
            "\u001b[0;32m<ipython-input-32-123d5a1ae97b>\u001b[0m in \u001b[0;36mfit\u001b[0;34m(self, data)\u001b[0m\n\u001b[1;32m     62\u001b[0m \u001b[0;34m\u001b[0m\u001b[0m\n\u001b[1;32m     63\u001b[0m         \u001b[0;32mfor\u001b[0m \u001b[0mp\u001b[0m \u001b[0;32min\u001b[0m \u001b[0mcluster\u001b[0m\u001b[0;34m:\u001b[0m\u001b[0;34m\u001b[0m\u001b[0;34m\u001b[0m\u001b[0m\n\u001b[0;32m---> 64\u001b[0;31m           \u001b[0msse\u001b[0m \u001b[0;34m+=\u001b[0m \u001b[0meuclidean_distance\u001b[0m\u001b[0;34m(\u001b[0m\u001b[0mce\u001b[0m\u001b[0;34m,\u001b[0m \u001b[0mp\u001b[0m\u001b[0;34m)\u001b[0m\u001b[0;34m\u001b[0m\u001b[0;34m\u001b[0m\u001b[0m\n\u001b[0m\u001b[1;32m     65\u001b[0m \u001b[0;34m\u001b[0m\u001b[0m\n\u001b[1;32m     66\u001b[0m       \u001b[0;32mif\u001b[0m \u001b[0mself\u001b[0m\u001b[0;34m.\u001b[0m\u001b[0mshow_sse\u001b[0m \u001b[0;34m==\u001b[0m \u001b[0;32mTrue\u001b[0m \u001b[0;32mand\u001b[0m \u001b[0mloop\u001b[0m \u001b[0;34m>\u001b[0m \u001b[0;36m1\u001b[0m \u001b[0;32mand\u001b[0m \u001b[0mself\u001b[0m\u001b[0;34m.\u001b[0m\u001b[0msse_list\u001b[0m\u001b[0;34m[\u001b[0m\u001b[0;34m-\u001b[0m\u001b[0;36m1\u001b[0m\u001b[0;34m]\u001b[0m \u001b[0;34m<=\u001b[0m \u001b[0msse\u001b[0m\u001b[0;34m:\u001b[0m\u001b[0;34m\u001b[0m\u001b[0;34m\u001b[0m\u001b[0m\n",
            "\u001b[0;32m<ipython-input-28-eea23a516904>\u001b[0m in \u001b[0;36meuclidean_distance\u001b[0;34m(point1, point2)\u001b[0m\n\u001b[1;32m      1\u001b[0m \u001b[0;32mdef\u001b[0m \u001b[0meuclidean_distance\u001b[0m\u001b[0;34m(\u001b[0m\u001b[0mpoint1\u001b[0m\u001b[0;34m,\u001b[0m \u001b[0mpoint2\u001b[0m\u001b[0;34m)\u001b[0m\u001b[0;34m:\u001b[0m\u001b[0;34m\u001b[0m\u001b[0;34m\u001b[0m\u001b[0m\n\u001b[1;32m      2\u001b[0m     \u001b[0mdistance\u001b[0m \u001b[0;34m=\u001b[0m \u001b[0;36m0\u001b[0m\u001b[0;34m\u001b[0m\u001b[0;34m\u001b[0m\u001b[0m\n\u001b[0;32m----> 3\u001b[0;31m     \u001b[0;32mfor\u001b[0m \u001b[0ma\u001b[0m\u001b[0;34m,\u001b[0m\u001b[0mb\u001b[0m \u001b[0;32min\u001b[0m \u001b[0mzip\u001b[0m\u001b[0;34m(\u001b[0m\u001b[0mpoint1\u001b[0m\u001b[0;34m,\u001b[0m \u001b[0mpoint2\u001b[0m\u001b[0;34m)\u001b[0m\u001b[0;34m:\u001b[0m\u001b[0;34m\u001b[0m\u001b[0;34m\u001b[0m\u001b[0m\n\u001b[0m\u001b[1;32m      4\u001b[0m         \u001b[0mdistance\u001b[0m \u001b[0;34m+=\u001b[0m \u001b[0mpow\u001b[0m\u001b[0;34m(\u001b[0m\u001b[0;34m(\u001b[0m\u001b[0ma\u001b[0m\u001b[0;34m-\u001b[0m\u001b[0mb\u001b[0m\u001b[0;34m)\u001b[0m\u001b[0;34m,\u001b[0m \u001b[0;36m2\u001b[0m\u001b[0;34m)\u001b[0m\u001b[0;34m\u001b[0m\u001b[0;34m\u001b[0m\u001b[0m\n\u001b[1;32m      5\u001b[0m     \u001b[0;32mreturn\u001b[0m \u001b[0mmath\u001b[0m\u001b[0;34m.\u001b[0m\u001b[0msqrt\u001b[0m\u001b[0;34m(\u001b[0m\u001b[0mdistance\u001b[0m\u001b[0;34m)\u001b[0m\u001b[0;34m\u001b[0m\u001b[0;34m\u001b[0m\u001b[0m\n",
            "\u001b[0;31mKeyboardInterrupt\u001b[0m: "
          ]
        }
      ]
    },
    {
      "cell_type": "code",
      "metadata": {
        "colab": {
          "base_uri": "https://localhost:8080/"
        },
        "id": "uXJtbcRJpylx",
        "outputId": "42291a1f-0bcb-475c-fc33-51956dcec081"
      },
      "source": [
        "kmeans = KMeans(centroid_stop=False,show_sse=True)\n",
        "[centroid_centers, clusters] = kmeans.fit(raw_data)\n",
        "print(kmeans.sse_list)"
      ],
      "execution_count": 43,
      "outputs": [
        {
          "output_type": "stream",
          "name": "stdout",
          "text": [
            "Time taken: 208.8012135028839\n",
            "Number of iterations: 26\n",
            "[17798991.187625736, 17555401.006838974, 17477390.395360995, 17440635.71613068, 17423818.57947928, 17416196.58562041, 17411334.098805375, 17406471.748255845, 17402873.309625704, 17399173.162614465, 17395499.758105367, 17391914.219803512, 17387712.313792598, 17383926.885657527, 17380415.49165239, 17377197.413949735, 17374754.562246773, 17372644.494997907, 17369989.72289451, 17366916.736112095, 17363115.490948338, 17360005.01171102, 17357875.583919674, 17356660.27041564, 17356300.65310551]\n"
          ]
        }
      ]
    },
    {
      "cell_type": "code",
      "metadata": {
        "colab": {
          "base_uri": "https://localhost:8080/"
        },
        "id": "jqp1WD_ypyg2",
        "outputId": "a547e278-4124-47de-a7da-efec96e76dd7"
      },
      "source": [
        "kmeans = KMeans(centroid_stop=False,show_sse=True,d_func=cosine_similarity)\n",
        "[centroid_centers, clusters] = kmeans.fit(raw_data)\n",
        "print(kmeans.sse_list)"
      ],
      "execution_count": 44,
      "outputs": [
        {
          "output_type": "stream",
          "name": "stdout",
          "text": [
            "Time taken: 102.71699047088623\n",
            "Number of iterations: 15\n",
            "[17915649.279711954, 17682111.74378824, 17599758.695512053, 17567681.33244379, 17544120.41680803, 17520356.812931653, 17491668.21694896, 17447936.900308806, 17386704.957547557, 17323546.7808935, 17289818.970776048, 17279921.09192021, 17278692.95630157, 17278666.56815716]\n"
          ]
        }
      ]
    },
    {
      "cell_type": "code",
      "metadata": {
        "colab": {
          "base_uri": "https://localhost:8080/"
        },
        "id": "_smqVF5ep19_",
        "outputId": "c0f90eaf-7205-4361-bd3f-32ada199e595"
      },
      "source": [
        "kmeans = KMeans(centroid_stop=False,show_sse=True,d_func=jaccard)\n",
        "[centroid_centers, clusters] = kmeans.fit(raw_data)\n",
        "print(kmeans.sse_list)"
      ],
      "execution_count": 45,
      "outputs": [
        {
          "output_type": "stream",
          "name": "stdout",
          "text": [
            "Time taken: 153.44420337677002\n",
            "Number of iterations: 18\n",
            "[17867080.301349018, 17548370.697184425, 17385160.52644045, 17309041.471761588, 17270426.5786878, 17255905.63987991, 17249487.014865313, 17245915.597938873, 17242468.091435123, 17239701.171811525, 17235909.578404836, 17231943.74340216, 17229115.37058356, 17227709.200049687, 17226818.47011934, 17226706.722128518, 17226336.054273196]\n"
          ]
        }
      ]
    }
  ]
}